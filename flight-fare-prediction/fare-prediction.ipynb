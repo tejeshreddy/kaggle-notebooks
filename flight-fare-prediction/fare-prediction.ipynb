{
 "cells": [
  {
   "cell_type": "markdown",
   "metadata": {},
   "source": [
    "- Airline: The name of the airline.\n",
    "- Date_of_Journey: The date of the journey\n",
    "- Source: The source from which the service begins.\n",
    "- Destination: The destination where the service ends.\n",
    "- Route: The route taken by the flight to reach the destination.\n",
    "- Dep_Time: The time when the journey starts from the source.\n",
    "- Arrival_Time: Time of arrival at the destination.\n",
    "- Duration: Total duration of the flight.\n",
    "- Total_Stops: Total stops between the source and destination.\n",
    "- Additional_Info: Additional information about the flight\n",
    "- Price: The price of the ticket"
   ]
  },
  {
   "cell_type": "markdown",
   "metadata": {},
   "source": [
    "## Loading the Imports"
   ]
  },
  {
   "cell_type": "code",
   "execution_count": 1,
   "metadata": {},
   "outputs": [],
   "source": [
    "# Basic imports\n",
    "import pandas as pd\n",
    "import numpy as np\n",
    "\n",
    "# Viz Libraries\n",
    "import matplotlib.pyplot as plt\n",
    "import seaborn as sns\n",
    "\n",
    "# To ignore all warnings\n",
    "import warnings\n",
    "warnings.filterwarnings('ignore')"
   ]
  },
  {
   "cell_type": "code",
   "execution_count": 2,
   "metadata": {},
   "outputs": [
    {
     "name": "stdout",
     "output_type": "stream",
     "text": [
      "Data_Train.xlsx        Sample_submission.xlsx Test_set.xlsx\r\n"
     ]
    }
   ],
   "source": [
    "# Listing all the files\n",
    "! cd data && ls"
   ]
  },
  {
   "cell_type": "code",
   "execution_count": 3,
   "metadata": {},
   "outputs": [],
   "source": [
    "# Loading the train test data\n",
    "train = pd.read_excel(\"./data/Data_Train.xlsx\")\n",
    "test = pd.read_excel(\"./data/Test_set.xlsx\")"
   ]
  },
  {
   "cell_type": "code",
   "execution_count": 4,
   "metadata": {},
   "outputs": [
    {
     "name": "stdout",
     "output_type": "stream",
     "text": [
      "(10683, 11) (2671, 10)\n"
     ]
    }
   ],
   "source": [
    "print(train.shape, test.shape)"
   ]
  },
  {
   "cell_type": "code",
   "execution_count": 5,
   "metadata": {},
   "outputs": [
    {
     "data": {
      "text/html": [
       "<div>\n",
       "<style scoped>\n",
       "    .dataframe tbody tr th:only-of-type {\n",
       "        vertical-align: middle;\n",
       "    }\n",
       "\n",
       "    .dataframe tbody tr th {\n",
       "        vertical-align: top;\n",
       "    }\n",
       "\n",
       "    .dataframe thead th {\n",
       "        text-align: right;\n",
       "    }\n",
       "</style>\n",
       "<table border=\"1\" class=\"dataframe\">\n",
       "  <thead>\n",
       "    <tr style=\"text-align: right;\">\n",
       "      <th></th>\n",
       "      <th>Airline</th>\n",
       "      <th>Date_of_Journey</th>\n",
       "      <th>Source</th>\n",
       "      <th>Destination</th>\n",
       "      <th>Route</th>\n",
       "      <th>Dep_Time</th>\n",
       "      <th>Arrival_Time</th>\n",
       "      <th>Duration</th>\n",
       "      <th>Total_Stops</th>\n",
       "      <th>Additional_Info</th>\n",
       "      <th>Price</th>\n",
       "    </tr>\n",
       "  </thead>\n",
       "  <tbody>\n",
       "    <tr>\n",
       "      <th>0</th>\n",
       "      <td>IndiGo</td>\n",
       "      <td>24/03/2019</td>\n",
       "      <td>Banglore</td>\n",
       "      <td>New Delhi</td>\n",
       "      <td>BLR → DEL</td>\n",
       "      <td>22:20</td>\n",
       "      <td>01:10 22 Mar</td>\n",
       "      <td>2h 50m</td>\n",
       "      <td>non-stop</td>\n",
       "      <td>No info</td>\n",
       "      <td>3897</td>\n",
       "    </tr>\n",
       "    <tr>\n",
       "      <th>1</th>\n",
       "      <td>Air India</td>\n",
       "      <td>1/05/2019</td>\n",
       "      <td>Kolkata</td>\n",
       "      <td>Banglore</td>\n",
       "      <td>CCU → IXR → BBI → BLR</td>\n",
       "      <td>05:50</td>\n",
       "      <td>13:15</td>\n",
       "      <td>7h 25m</td>\n",
       "      <td>2 stops</td>\n",
       "      <td>No info</td>\n",
       "      <td>7662</td>\n",
       "    </tr>\n",
       "    <tr>\n",
       "      <th>2</th>\n",
       "      <td>Jet Airways</td>\n",
       "      <td>9/06/2019</td>\n",
       "      <td>Delhi</td>\n",
       "      <td>Cochin</td>\n",
       "      <td>DEL → LKO → BOM → COK</td>\n",
       "      <td>09:25</td>\n",
       "      <td>04:25 10 Jun</td>\n",
       "      <td>19h</td>\n",
       "      <td>2 stops</td>\n",
       "      <td>No info</td>\n",
       "      <td>13882</td>\n",
       "    </tr>\n",
       "    <tr>\n",
       "      <th>3</th>\n",
       "      <td>IndiGo</td>\n",
       "      <td>12/05/2019</td>\n",
       "      <td>Kolkata</td>\n",
       "      <td>Banglore</td>\n",
       "      <td>CCU → NAG → BLR</td>\n",
       "      <td>18:05</td>\n",
       "      <td>23:30</td>\n",
       "      <td>5h 25m</td>\n",
       "      <td>1 stop</td>\n",
       "      <td>No info</td>\n",
       "      <td>6218</td>\n",
       "    </tr>\n",
       "    <tr>\n",
       "      <th>4</th>\n",
       "      <td>IndiGo</td>\n",
       "      <td>01/03/2019</td>\n",
       "      <td>Banglore</td>\n",
       "      <td>New Delhi</td>\n",
       "      <td>BLR → NAG → DEL</td>\n",
       "      <td>16:50</td>\n",
       "      <td>21:35</td>\n",
       "      <td>4h 45m</td>\n",
       "      <td>1 stop</td>\n",
       "      <td>No info</td>\n",
       "      <td>13302</td>\n",
       "    </tr>\n",
       "  </tbody>\n",
       "</table>\n",
       "</div>"
      ],
      "text/plain": [
       "       Airline Date_of_Journey    Source Destination                  Route  \\\n",
       "0       IndiGo      24/03/2019  Banglore   New Delhi              BLR → DEL   \n",
       "1    Air India       1/05/2019   Kolkata    Banglore  CCU → IXR → BBI → BLR   \n",
       "2  Jet Airways       9/06/2019     Delhi      Cochin  DEL → LKO → BOM → COK   \n",
       "3       IndiGo      12/05/2019   Kolkata    Banglore        CCU → NAG → BLR   \n",
       "4       IndiGo      01/03/2019  Banglore   New Delhi        BLR → NAG → DEL   \n",
       "\n",
       "  Dep_Time  Arrival_Time Duration Total_Stops Additional_Info  Price  \n",
       "0    22:20  01:10 22 Mar   2h 50m    non-stop         No info   3897  \n",
       "1    05:50         13:15   7h 25m     2 stops         No info   7662  \n",
       "2    09:25  04:25 10 Jun      19h     2 stops         No info  13882  \n",
       "3    18:05         23:30   5h 25m      1 stop         No info   6218  \n",
       "4    16:50         21:35   4h 45m      1 stop         No info  13302  "
      ]
     },
     "execution_count": 5,
     "metadata": {},
     "output_type": "execute_result"
    }
   ],
   "source": [
    "train.head()"
   ]
  },
  {
   "cell_type": "code",
   "execution_count": 6,
   "metadata": {},
   "outputs": [
    {
     "name": "stdout",
     "output_type": "stream",
     "text": [
      "<class 'pandas.core.frame.DataFrame'>\n",
      "RangeIndex: 10683 entries, 0 to 10682\n",
      "Data columns (total 11 columns):\n",
      " #   Column           Non-Null Count  Dtype \n",
      "---  ------           --------------  ----- \n",
      " 0   Airline          10683 non-null  object\n",
      " 1   Date_of_Journey  10683 non-null  object\n",
      " 2   Source           10683 non-null  object\n",
      " 3   Destination      10683 non-null  object\n",
      " 4   Route            10682 non-null  object\n",
      " 5   Dep_Time         10683 non-null  object\n",
      " 6   Arrival_Time     10683 non-null  object\n",
      " 7   Duration         10683 non-null  object\n",
      " 8   Total_Stops      10682 non-null  object\n",
      " 9   Additional_Info  10683 non-null  object\n",
      " 10  Price            10683 non-null  int64 \n",
      "dtypes: int64(1), object(10)\n",
      "memory usage: 918.2+ KB\n"
     ]
    }
   ],
   "source": [
    "# More info on the training data\n",
    "train.info()"
   ]
  },
  {
   "cell_type": "markdown",
   "metadata": {},
   "source": [
    "## Data Pre-Processing"
   ]
  },
  {
   "cell_type": "code",
   "execution_count": 7,
   "metadata": {},
   "outputs": [
    {
     "data": {
      "text/plain": [
       "Airline            0\n",
       "Date_of_Journey    0\n",
       "Source             0\n",
       "Destination        0\n",
       "Route              1\n",
       "Dep_Time           0\n",
       "Arrival_Time       0\n",
       "Duration           0\n",
       "Total_Stops        1\n",
       "Additional_Info    0\n",
       "Price              0\n",
       "dtype: int64"
      ]
     },
     "execution_count": 7,
     "metadata": {},
     "output_type": "execute_result"
    }
   ],
   "source": [
    "# Get all the null rows in the file\n",
    "train.isnull().sum()"
   ]
  },
  {
   "cell_type": "code",
   "execution_count": 8,
   "metadata": {},
   "outputs": [],
   "source": [
    "# Since the number of null rows are minimum, we can drop them\n",
    "train.dropna(inplace=True)"
   ]
  },
  {
   "cell_type": "code",
   "execution_count": 9,
   "metadata": {},
   "outputs": [
    {
     "data": {
      "text/html": [
       "<div>\n",
       "<style scoped>\n",
       "    .dataframe tbody tr th:only-of-type {\n",
       "        vertical-align: middle;\n",
       "    }\n",
       "\n",
       "    .dataframe tbody tr th {\n",
       "        vertical-align: top;\n",
       "    }\n",
       "\n",
       "    .dataframe thead th {\n",
       "        text-align: right;\n",
       "    }\n",
       "</style>\n",
       "<table border=\"1\" class=\"dataframe\">\n",
       "  <thead>\n",
       "    <tr style=\"text-align: right;\">\n",
       "      <th></th>\n",
       "      <th>Airline</th>\n",
       "      <th>Date_of_Journey</th>\n",
       "      <th>Source</th>\n",
       "      <th>Destination</th>\n",
       "      <th>Route</th>\n",
       "      <th>Dep_Time</th>\n",
       "      <th>Arrival_Time</th>\n",
       "      <th>Duration</th>\n",
       "      <th>Total_Stops</th>\n",
       "      <th>Additional_Info</th>\n",
       "      <th>Price</th>\n",
       "    </tr>\n",
       "  </thead>\n",
       "  <tbody>\n",
       "    <tr>\n",
       "      <th>683</th>\n",
       "      <td>Jet Airways</td>\n",
       "      <td>1/06/2019</td>\n",
       "      <td>Delhi</td>\n",
       "      <td>Cochin</td>\n",
       "      <td>DEL → NAG → BOM → COK</td>\n",
       "      <td>14:35</td>\n",
       "      <td>04:25 02 Jun</td>\n",
       "      <td>13h 50m</td>\n",
       "      <td>2 stops</td>\n",
       "      <td>No info</td>\n",
       "      <td>13376</td>\n",
       "    </tr>\n",
       "    <tr>\n",
       "      <th>1061</th>\n",
       "      <td>Air India</td>\n",
       "      <td>21/05/2019</td>\n",
       "      <td>Delhi</td>\n",
       "      <td>Cochin</td>\n",
       "      <td>DEL → GOI → BOM → COK</td>\n",
       "      <td>22:00</td>\n",
       "      <td>19:15 22 May</td>\n",
       "      <td>21h 15m</td>\n",
       "      <td>2 stops</td>\n",
       "      <td>No info</td>\n",
       "      <td>10231</td>\n",
       "    </tr>\n",
       "    <tr>\n",
       "      <th>1348</th>\n",
       "      <td>Air India</td>\n",
       "      <td>18/05/2019</td>\n",
       "      <td>Delhi</td>\n",
       "      <td>Cochin</td>\n",
       "      <td>DEL → HYD → BOM → COK</td>\n",
       "      <td>17:15</td>\n",
       "      <td>19:15 19 May</td>\n",
       "      <td>26h</td>\n",
       "      <td>2 stops</td>\n",
       "      <td>No info</td>\n",
       "      <td>12392</td>\n",
       "    </tr>\n",
       "    <tr>\n",
       "      <th>1418</th>\n",
       "      <td>Jet Airways</td>\n",
       "      <td>6/06/2019</td>\n",
       "      <td>Delhi</td>\n",
       "      <td>Cochin</td>\n",
       "      <td>DEL → JAI → BOM → COK</td>\n",
       "      <td>05:30</td>\n",
       "      <td>04:25 07 Jun</td>\n",
       "      <td>22h 55m</td>\n",
       "      <td>2 stops</td>\n",
       "      <td>In-flight meal not included</td>\n",
       "      <td>10368</td>\n",
       "    </tr>\n",
       "    <tr>\n",
       "      <th>1674</th>\n",
       "      <td>IndiGo</td>\n",
       "      <td>24/03/2019</td>\n",
       "      <td>Banglore</td>\n",
       "      <td>New Delhi</td>\n",
       "      <td>BLR → DEL</td>\n",
       "      <td>18:25</td>\n",
       "      <td>21:20</td>\n",
       "      <td>2h 55m</td>\n",
       "      <td>non-stop</td>\n",
       "      <td>No info</td>\n",
       "      <td>7303</td>\n",
       "    </tr>\n",
       "    <tr>\n",
       "      <th>...</th>\n",
       "      <td>...</td>\n",
       "      <td>...</td>\n",
       "      <td>...</td>\n",
       "      <td>...</td>\n",
       "      <td>...</td>\n",
       "      <td>...</td>\n",
       "      <td>...</td>\n",
       "      <td>...</td>\n",
       "      <td>...</td>\n",
       "      <td>...</td>\n",
       "      <td>...</td>\n",
       "    </tr>\n",
       "    <tr>\n",
       "      <th>10594</th>\n",
       "      <td>Jet Airways</td>\n",
       "      <td>27/06/2019</td>\n",
       "      <td>Delhi</td>\n",
       "      <td>Cochin</td>\n",
       "      <td>DEL → AMD → BOM → COK</td>\n",
       "      <td>23:05</td>\n",
       "      <td>12:35 28 Jun</td>\n",
       "      <td>13h 30m</td>\n",
       "      <td>2 stops</td>\n",
       "      <td>No info</td>\n",
       "      <td>12819</td>\n",
       "    </tr>\n",
       "    <tr>\n",
       "      <th>10616</th>\n",
       "      <td>Jet Airways</td>\n",
       "      <td>1/06/2019</td>\n",
       "      <td>Delhi</td>\n",
       "      <td>Cochin</td>\n",
       "      <td>DEL → JAI → BOM → COK</td>\n",
       "      <td>09:40</td>\n",
       "      <td>12:35 02 Jun</td>\n",
       "      <td>26h 55m</td>\n",
       "      <td>2 stops</td>\n",
       "      <td>No info</td>\n",
       "      <td>13014</td>\n",
       "    </tr>\n",
       "    <tr>\n",
       "      <th>10634</th>\n",
       "      <td>Jet Airways</td>\n",
       "      <td>6/06/2019</td>\n",
       "      <td>Delhi</td>\n",
       "      <td>Cochin</td>\n",
       "      <td>DEL → JAI → BOM → COK</td>\n",
       "      <td>09:40</td>\n",
       "      <td>12:35 07 Jun</td>\n",
       "      <td>26h 55m</td>\n",
       "      <td>2 stops</td>\n",
       "      <td>In-flight meal not included</td>\n",
       "      <td>11733</td>\n",
       "    </tr>\n",
       "    <tr>\n",
       "      <th>10672</th>\n",
       "      <td>Jet Airways</td>\n",
       "      <td>27/06/2019</td>\n",
       "      <td>Delhi</td>\n",
       "      <td>Cochin</td>\n",
       "      <td>DEL → AMD → BOM → COK</td>\n",
       "      <td>23:05</td>\n",
       "      <td>19:00 28 Jun</td>\n",
       "      <td>19h 55m</td>\n",
       "      <td>2 stops</td>\n",
       "      <td>In-flight meal not included</td>\n",
       "      <td>11150</td>\n",
       "    </tr>\n",
       "    <tr>\n",
       "      <th>10673</th>\n",
       "      <td>Jet Airways</td>\n",
       "      <td>27/05/2019</td>\n",
       "      <td>Delhi</td>\n",
       "      <td>Cochin</td>\n",
       "      <td>DEL → AMD → BOM → COK</td>\n",
       "      <td>13:25</td>\n",
       "      <td>04:25 28 May</td>\n",
       "      <td>15h</td>\n",
       "      <td>2 stops</td>\n",
       "      <td>No info</td>\n",
       "      <td>16704</td>\n",
       "    </tr>\n",
       "  </tbody>\n",
       "</table>\n",
       "<p>220 rows × 11 columns</p>\n",
       "</div>"
      ],
      "text/plain": [
       "           Airline Date_of_Journey    Source Destination  \\\n",
       "683    Jet Airways       1/06/2019     Delhi      Cochin   \n",
       "1061     Air India      21/05/2019     Delhi      Cochin   \n",
       "1348     Air India      18/05/2019     Delhi      Cochin   \n",
       "1418   Jet Airways       6/06/2019     Delhi      Cochin   \n",
       "1674        IndiGo      24/03/2019  Banglore   New Delhi   \n",
       "...            ...             ...       ...         ...   \n",
       "10594  Jet Airways      27/06/2019     Delhi      Cochin   \n",
       "10616  Jet Airways       1/06/2019     Delhi      Cochin   \n",
       "10634  Jet Airways       6/06/2019     Delhi      Cochin   \n",
       "10672  Jet Airways      27/06/2019     Delhi      Cochin   \n",
       "10673  Jet Airways      27/05/2019     Delhi      Cochin   \n",
       "\n",
       "                       Route Dep_Time  Arrival_Time Duration Total_Stops  \\\n",
       "683    DEL → NAG → BOM → COK    14:35  04:25 02 Jun  13h 50m     2 stops   \n",
       "1061   DEL → GOI → BOM → COK    22:00  19:15 22 May  21h 15m     2 stops   \n",
       "1348   DEL → HYD → BOM → COK    17:15  19:15 19 May      26h     2 stops   \n",
       "1418   DEL → JAI → BOM → COK    05:30  04:25 07 Jun  22h 55m     2 stops   \n",
       "1674               BLR → DEL    18:25         21:20   2h 55m    non-stop   \n",
       "...                      ...      ...           ...      ...         ...   \n",
       "10594  DEL → AMD → BOM → COK    23:05  12:35 28 Jun  13h 30m     2 stops   \n",
       "10616  DEL → JAI → BOM → COK    09:40  12:35 02 Jun  26h 55m     2 stops   \n",
       "10634  DEL → JAI → BOM → COK    09:40  12:35 07 Jun  26h 55m     2 stops   \n",
       "10672  DEL → AMD → BOM → COK    23:05  19:00 28 Jun  19h 55m     2 stops   \n",
       "10673  DEL → AMD → BOM → COK    13:25  04:25 28 May      15h     2 stops   \n",
       "\n",
       "                   Additional_Info  Price  \n",
       "683                        No info  13376  \n",
       "1061                       No info  10231  \n",
       "1348                       No info  12392  \n",
       "1418   In-flight meal not included  10368  \n",
       "1674                       No info   7303  \n",
       "...                            ...    ...  \n",
       "10594                      No info  12819  \n",
       "10616                      No info  13014  \n",
       "10634  In-flight meal not included  11733  \n",
       "10672  In-flight meal not included  11150  \n",
       "10673                      No info  16704  \n",
       "\n",
       "[220 rows x 11 columns]"
      ]
     },
     "execution_count": 9,
     "metadata": {},
     "output_type": "execute_result"
    }
   ],
   "source": [
    "# To check if there are any duplicated values\n",
    "train[train.duplicated()]"
   ]
  },
  {
   "cell_type": "markdown",
   "metadata": {},
   "source": [
    "Since the data has duplicated values, we are going to drop them."
   ]
  },
  {
   "cell_type": "code",
   "execution_count": 10,
   "metadata": {},
   "outputs": [],
   "source": [
    "# To remove all the duplicate values\n",
    "train.drop_duplicates(keep=\"first\", inplace=True)"
   ]
  },
  {
   "cell_type": "code",
   "execution_count": 11,
   "metadata": {},
   "outputs": [
    {
     "name": "stdout",
     "output_type": "stream",
     "text": [
      "Column: Airline\n",
      "Jet Airways                          3700\n",
      "IndiGo                               2043\n",
      "Air India                            1694\n",
      "Multiple carriers                    1196\n",
      "SpiceJet                              815\n",
      "Vistara                               478\n",
      "Air Asia                              319\n",
      "GoAir                                 194\n",
      "Multiple carriers Premium economy      13\n",
      "Jet Airways Business                    6\n",
      "Vistara Premium economy                 3\n",
      "Trujet                                  1\n",
      "Name: Airline, dtype: int64\n",
      "-----------\n",
      "Column: Date_of_Journey\n",
      "6/06/2019     490\n",
      "18/05/2019    486\n",
      "9/06/2019     485\n",
      "12/06/2019    483\n",
      "21/05/2019    482\n",
      "9/05/2019     466\n",
      "21/03/2019    412\n",
      "15/05/2019    402\n",
      "27/05/2019    369\n",
      "27/06/2019    339\n",
      "1/06/2019     330\n",
      "24/06/2019    330\n",
      "3/06/2019     326\n",
      "15/06/2019    314\n",
      "24/03/2019    314\n",
      "6/03/2019     302\n",
      "27/03/2019    290\n",
      "24/05/2019    286\n",
      "6/05/2019     281\n",
      "1/05/2019     274\n",
      "12/05/2019    259\n",
      "1/04/2019     256\n",
      "3/03/2019     217\n",
      "9/03/2019     199\n",
      "15/03/2019    162\n",
      "18/03/2019    156\n",
      "01/03/2019    151\n",
      "12/03/2019    141\n",
      "9/04/2019     125\n",
      "3/04/2019     110\n",
      "21/06/2019    109\n",
      "18/06/2019    105\n",
      "6/04/2019     100\n",
      "09/03/2019    100\n",
      "06/03/2019     95\n",
      "27/04/2019     94\n",
      "24/04/2019     92\n",
      "03/03/2019     92\n",
      "3/05/2019      90\n",
      "15/04/2019     89\n",
      "21/04/2019     82\n",
      "18/04/2019     67\n",
      "12/04/2019     63\n",
      "1/03/2019      47\n",
      "Name: Date_of_Journey, dtype: int64\n",
      "-----------\n",
      "Column: Source\n",
      "Delhi       4345\n",
      "Kolkata     2860\n",
      "Banglore    2179\n",
      "Mumbai       697\n",
      "Chennai      381\n",
      "Name: Source, dtype: int64\n",
      "-----------\n",
      "Column: Destination\n",
      "Cochin       4345\n",
      "Banglore     2860\n",
      "Delhi        1265\n",
      "New Delhi     914\n",
      "Hyderabad     697\n",
      "Kolkata       381\n",
      "Name: Destination, dtype: int64\n",
      "-----------\n",
      "Column: Route\n",
      "DEL → BOM → COK                2376\n",
      "BLR → DEL                      1536\n",
      "CCU → BOM → BLR                 979\n",
      "CCU → BLR                       724\n",
      "BOM → HYD                       621\n",
      "                               ... \n",
      "BOM → JDH → JAI → DEL → HYD       1\n",
      "BLR → HBX → BOM → BHO → DEL       1\n",
      "BOM → JLR → HYD                   1\n",
      "BLR → HBX → BOM → NAG → DEL       1\n",
      "CCU → IXA → BLR                   1\n",
      "Name: Route, Length: 128, dtype: int64\n",
      "-----------\n",
      "Column: Dep_Time\n",
      "18:55    233\n",
      "17:00    227\n",
      "07:05    202\n",
      "07:10    201\n",
      "10:00    196\n",
      "        ... \n",
      "16:25      1\n",
      "04:50      1\n",
      "01:35      1\n",
      "22:25      1\n",
      "21:35      1\n",
      "Name: Dep_Time, Length: 222, dtype: int64\n",
      "-----------\n",
      "Column: Arrival_Time\n",
      "19:00           412\n",
      "21:00           360\n",
      "19:15           333\n",
      "16:10           154\n",
      "12:35           122\n",
      "               ... \n",
      "06:50 28 Apr      1\n",
      "23:00 22 Mar      1\n",
      "20:10             1\n",
      "02:20 28 Mar      1\n",
      "05:35 19 May      1\n",
      "Name: Arrival_Time, Length: 1343, dtype: int64\n",
      "-----------\n",
      "Column: Duration\n",
      "2h 50m     544\n",
      "1h 30m     386\n",
      "2h 45m     335\n",
      "2h 55m     332\n",
      "2h 35m     329\n",
      "          ... \n",
      "27h 30m      1\n",
      "29h 10m      1\n",
      "37h 10m      1\n",
      "5m           1\n",
      "30h 25m      1\n",
      "Name: Duration, Length: 368, dtype: int64\n",
      "-----------\n",
      "Column: Total_Stops\n",
      "1 stop      5625\n",
      "non-stop    3475\n",
      "2 stops     1318\n",
      "3 stops       43\n",
      "4 stops        1\n",
      "Name: Total_Stops, dtype: int64\n",
      "-----------\n",
      "Column: Additional_Info\n",
      "No info                         8182\n",
      "In-flight meal not included     1926\n",
      "No check-in baggage included     318\n",
      "1 Long layover                    19\n",
      "Change airports                    7\n",
      "Business class                     4\n",
      "No Info                            3\n",
      "1 Short layover                    1\n",
      "2 Long layover                     1\n",
      "Red-eye flight                     1\n",
      "Name: Additional_Info, dtype: int64\n",
      "-----------\n",
      "Column: Price\n",
      "10262    258\n",
      "10844    212\n",
      "7229     161\n",
      "4804     160\n",
      "4823     131\n",
      "        ... \n",
      "9630       1\n",
      "13875      1\n",
      "11647      1\n",
      "7742       1\n",
      "4098       1\n",
      "Name: Price, Length: 1870, dtype: int64\n",
      "-----------\n"
     ]
    }
   ],
   "source": [
    "# To find unique values of entire training data to understand anomalies\n",
    "for i in train.columns:\n",
    "    print(\"Column: \" + i)\n",
    "    print(train[i].value_counts())\n",
    "    print(\"-----------\")"
   ]
  },
  {
   "cell_type": "code",
   "execution_count": 12,
   "metadata": {},
   "outputs": [
    {
     "data": {
      "text/plain": [
       "No info                         8182\n",
       "In-flight meal not included     1926\n",
       "No check-in baggage included     318\n",
       "1 Long layover                    19\n",
       "Change airports                    7\n",
       "Business class                     4\n",
       "No Info                            3\n",
       "1 Short layover                    1\n",
       "2 Long layover                     1\n",
       "Red-eye flight                     1\n",
       "Name: Additional_Info, dtype: int64"
      ]
     },
     "execution_count": 12,
     "metadata": {},
     "output_type": "execute_result"
    }
   ],
   "source": [
    "train['Additional_Info'].value_counts()"
   ]
  },
  {
   "cell_type": "markdown",
   "metadata": {},
   "source": [
    "No info equals No Info. Converting them to the same"
   ]
  },
  {
   "cell_type": "code",
   "execution_count": 13,
   "metadata": {},
   "outputs": [],
   "source": [
    "train[\"Additional_Info\"] = train[\"Additional_Info\"].replace({'No Info': 'No info'})"
   ]
  },
  {
   "cell_type": "code",
   "execution_count": 14,
   "metadata": {},
   "outputs": [],
   "source": [
    "train['Duration'] = train['Duration'].str.replace(\"h\", '*60').str.replace(\"m\", \"*1\").str.replace(\" \", \"+\").apply(eval)"
   ]
  },
  {
   "cell_type": "code",
   "execution_count": 15,
   "metadata": {},
   "outputs": [
    {
     "data": {
      "text/html": [
       "<div>\n",
       "<style scoped>\n",
       "    .dataframe tbody tr th:only-of-type {\n",
       "        vertical-align: middle;\n",
       "    }\n",
       "\n",
       "    .dataframe tbody tr th {\n",
       "        vertical-align: top;\n",
       "    }\n",
       "\n",
       "    .dataframe thead th {\n",
       "        text-align: right;\n",
       "    }\n",
       "</style>\n",
       "<table border=\"1\" class=\"dataframe\">\n",
       "  <thead>\n",
       "    <tr style=\"text-align: right;\">\n",
       "      <th></th>\n",
       "      <th>Airline</th>\n",
       "      <th>Date_of_Journey</th>\n",
       "      <th>Source</th>\n",
       "      <th>Destination</th>\n",
       "      <th>Route</th>\n",
       "      <th>Dep_Time</th>\n",
       "      <th>Arrival_Time</th>\n",
       "      <th>Duration</th>\n",
       "      <th>Total_Stops</th>\n",
       "      <th>Additional_Info</th>\n",
       "      <th>Price</th>\n",
       "    </tr>\n",
       "  </thead>\n",
       "  <tbody>\n",
       "    <tr>\n",
       "      <th>0</th>\n",
       "      <td>IndiGo</td>\n",
       "      <td>24/03/2019</td>\n",
       "      <td>Banglore</td>\n",
       "      <td>New Delhi</td>\n",
       "      <td>BLR → DEL</td>\n",
       "      <td>22:20</td>\n",
       "      <td>01:10 22 Mar</td>\n",
       "      <td>170</td>\n",
       "      <td>non-stop</td>\n",
       "      <td>No info</td>\n",
       "      <td>3897</td>\n",
       "    </tr>\n",
       "    <tr>\n",
       "      <th>1</th>\n",
       "      <td>Air India</td>\n",
       "      <td>1/05/2019</td>\n",
       "      <td>Kolkata</td>\n",
       "      <td>Banglore</td>\n",
       "      <td>CCU → IXR → BBI → BLR</td>\n",
       "      <td>05:50</td>\n",
       "      <td>13:15</td>\n",
       "      <td>445</td>\n",
       "      <td>2 stops</td>\n",
       "      <td>No info</td>\n",
       "      <td>7662</td>\n",
       "    </tr>\n",
       "    <tr>\n",
       "      <th>2</th>\n",
       "      <td>Jet Airways</td>\n",
       "      <td>9/06/2019</td>\n",
       "      <td>Delhi</td>\n",
       "      <td>Cochin</td>\n",
       "      <td>DEL → LKO → BOM → COK</td>\n",
       "      <td>09:25</td>\n",
       "      <td>04:25 10 Jun</td>\n",
       "      <td>1140</td>\n",
       "      <td>2 stops</td>\n",
       "      <td>No info</td>\n",
       "      <td>13882</td>\n",
       "    </tr>\n",
       "    <tr>\n",
       "      <th>3</th>\n",
       "      <td>IndiGo</td>\n",
       "      <td>12/05/2019</td>\n",
       "      <td>Kolkata</td>\n",
       "      <td>Banglore</td>\n",
       "      <td>CCU → NAG → BLR</td>\n",
       "      <td>18:05</td>\n",
       "      <td>23:30</td>\n",
       "      <td>325</td>\n",
       "      <td>1 stop</td>\n",
       "      <td>No info</td>\n",
       "      <td>6218</td>\n",
       "    </tr>\n",
       "    <tr>\n",
       "      <th>4</th>\n",
       "      <td>IndiGo</td>\n",
       "      <td>01/03/2019</td>\n",
       "      <td>Banglore</td>\n",
       "      <td>New Delhi</td>\n",
       "      <td>BLR → NAG → DEL</td>\n",
       "      <td>16:50</td>\n",
       "      <td>21:35</td>\n",
       "      <td>285</td>\n",
       "      <td>1 stop</td>\n",
       "      <td>No info</td>\n",
       "      <td>13302</td>\n",
       "    </tr>\n",
       "  </tbody>\n",
       "</table>\n",
       "</div>"
      ],
      "text/plain": [
       "       Airline Date_of_Journey    Source Destination                  Route  \\\n",
       "0       IndiGo      24/03/2019  Banglore   New Delhi              BLR → DEL   \n",
       "1    Air India       1/05/2019   Kolkata    Banglore  CCU → IXR → BBI → BLR   \n",
       "2  Jet Airways       9/06/2019     Delhi      Cochin  DEL → LKO → BOM → COK   \n",
       "3       IndiGo      12/05/2019   Kolkata    Banglore        CCU → NAG → BLR   \n",
       "4       IndiGo      01/03/2019  Banglore   New Delhi        BLR → NAG → DEL   \n",
       "\n",
       "  Dep_Time  Arrival_Time  Duration Total_Stops Additional_Info  Price  \n",
       "0    22:20  01:10 22 Mar       170    non-stop         No info   3897  \n",
       "1    05:50         13:15       445     2 stops         No info   7662  \n",
       "2    09:25  04:25 10 Jun      1140     2 stops         No info  13882  \n",
       "3    18:05         23:30       325      1 stop         No info   6218  \n",
       "4    16:50         21:35       285      1 stop         No info  13302  "
      ]
     },
     "execution_count": 15,
     "metadata": {},
     "output_type": "execute_result"
    }
   ],
   "source": [
    "train.head()"
   ]
  },
  {
   "cell_type": "code",
   "execution_count": 16,
   "metadata": {},
   "outputs": [],
   "source": [
    "# Alter date time information from train data\n",
    "\n",
    "# Date_of_Journey\n",
    "train[\"Journey_day\"] = train['Date_of_Journey'].str.split('/').str[0].astype(int)\n",
    "train[\"Journey_month\"] = train['Date_of_Journey'].str.split('/').str[1].astype(int)\n",
    "train.drop([\"Date_of_Journey\"], axis = 1, inplace = True)\n",
    "\n",
    "# Departure time information\n",
    "train[\"Dep_hour\"] = pd.to_datetime(train[\"Dep_Time\"]).dt.hour\n",
    "train[\"Dep_min\"] = pd.to_datetime(train[\"Dep_Time\"]).dt.minute\n",
    "train.drop([\"Dep_Time\"], axis = 1, inplace = True)\n",
    "\n",
    "# Arrival_Time\n",
    "train[\"Arrival_hour\"] = pd.to_datetime(train.Arrival_Time).dt.hour\n",
    "train[\"Arrival_min\"] = pd.to_datetime(train.Arrival_Time).dt.minute\n",
    "train.drop([\"Arrival_Time\"], axis = 1, inplace = True)"
   ]
  },
  {
   "cell_type": "code",
   "execution_count": 17,
   "metadata": {},
   "outputs": [
    {
     "data": {
      "text/html": [
       "<div>\n",
       "<style scoped>\n",
       "    .dataframe tbody tr th:only-of-type {\n",
       "        vertical-align: middle;\n",
       "    }\n",
       "\n",
       "    .dataframe tbody tr th {\n",
       "        vertical-align: top;\n",
       "    }\n",
       "\n",
       "    .dataframe thead th {\n",
       "        text-align: right;\n",
       "    }\n",
       "</style>\n",
       "<table border=\"1\" class=\"dataframe\">\n",
       "  <thead>\n",
       "    <tr style=\"text-align: right;\">\n",
       "      <th></th>\n",
       "      <th>Airline</th>\n",
       "      <th>Source</th>\n",
       "      <th>Destination</th>\n",
       "      <th>Route</th>\n",
       "      <th>Duration</th>\n",
       "      <th>Total_Stops</th>\n",
       "      <th>Additional_Info</th>\n",
       "      <th>Price</th>\n",
       "      <th>Journey_day</th>\n",
       "      <th>Journey_month</th>\n",
       "      <th>Dep_hour</th>\n",
       "      <th>Dep_min</th>\n",
       "      <th>Arrival_hour</th>\n",
       "      <th>Arrival_min</th>\n",
       "    </tr>\n",
       "  </thead>\n",
       "  <tbody>\n",
       "    <tr>\n",
       "      <th>0</th>\n",
       "      <td>IndiGo</td>\n",
       "      <td>Banglore</td>\n",
       "      <td>New Delhi</td>\n",
       "      <td>BLR → DEL</td>\n",
       "      <td>170</td>\n",
       "      <td>non-stop</td>\n",
       "      <td>No info</td>\n",
       "      <td>3897</td>\n",
       "      <td>24</td>\n",
       "      <td>3</td>\n",
       "      <td>22</td>\n",
       "      <td>20</td>\n",
       "      <td>1</td>\n",
       "      <td>10</td>\n",
       "    </tr>\n",
       "    <tr>\n",
       "      <th>1</th>\n",
       "      <td>Air India</td>\n",
       "      <td>Kolkata</td>\n",
       "      <td>Banglore</td>\n",
       "      <td>CCU → IXR → BBI → BLR</td>\n",
       "      <td>445</td>\n",
       "      <td>2 stops</td>\n",
       "      <td>No info</td>\n",
       "      <td>7662</td>\n",
       "      <td>1</td>\n",
       "      <td>5</td>\n",
       "      <td>5</td>\n",
       "      <td>50</td>\n",
       "      <td>13</td>\n",
       "      <td>15</td>\n",
       "    </tr>\n",
       "    <tr>\n",
       "      <th>2</th>\n",
       "      <td>Jet Airways</td>\n",
       "      <td>Delhi</td>\n",
       "      <td>Cochin</td>\n",
       "      <td>DEL → LKO → BOM → COK</td>\n",
       "      <td>1140</td>\n",
       "      <td>2 stops</td>\n",
       "      <td>No info</td>\n",
       "      <td>13882</td>\n",
       "      <td>9</td>\n",
       "      <td>6</td>\n",
       "      <td>9</td>\n",
       "      <td>25</td>\n",
       "      <td>4</td>\n",
       "      <td>25</td>\n",
       "    </tr>\n",
       "  </tbody>\n",
       "</table>\n",
       "</div>"
      ],
      "text/plain": [
       "       Airline    Source Destination                  Route  Duration  \\\n",
       "0       IndiGo  Banglore   New Delhi              BLR → DEL       170   \n",
       "1    Air India   Kolkata    Banglore  CCU → IXR → BBI → BLR       445   \n",
       "2  Jet Airways     Delhi      Cochin  DEL → LKO → BOM → COK      1140   \n",
       "\n",
       "  Total_Stops Additional_Info  Price  Journey_day  Journey_month  Dep_hour  \\\n",
       "0    non-stop         No info   3897           24              3        22   \n",
       "1     2 stops         No info   7662            1              5         5   \n",
       "2     2 stops         No info  13882            9              6         9   \n",
       "\n",
       "   Dep_min  Arrival_hour  Arrival_min  \n",
       "0       20             1           10  \n",
       "1       50            13           15  \n",
       "2       25             4           25  "
      ]
     },
     "execution_count": 17,
     "metadata": {},
     "output_type": "execute_result"
    }
   ],
   "source": [
    "train.head(3)"
   ]
  },
  {
   "cell_type": "code",
   "execution_count": 18,
   "metadata": {},
   "outputs": [],
   "source": [
    "# Alter date time information from train data\n",
    "\n",
    "# Date_of_Journey\n",
    "test[\"Journey_day\"] = test['Date_of_Journey'].str.split('/').str[0].astype(int)\n",
    "test[\"Journey_month\"] = test['Date_of_Journey'].str.split('/').str[1].astype(int)\n",
    "test.drop([\"Date_of_Journey\"], axis = 1, inplace = True)\n",
    "\n",
    "# Dep_Time\n",
    "test[\"Dep_hour\"] = pd.to_datetime(test[\"Dep_Time\"]).dt.hour\n",
    "test[\"Dep_min\"] = pd.to_datetime(test[\"Dep_Time\"]).dt.minute\n",
    "test.drop([\"Dep_Time\"], axis = 1, inplace = True)\n",
    "\n",
    "# Arrival_Time\n",
    "test[\"Arrival_hour\"] = pd.to_datetime(test.Arrival_Time).dt.hour\n",
    "test[\"Arrival_min\"] = pd.to_datetime(test.Arrival_Time).dt.minute\n",
    "test.drop([\"Arrival_Time\"], axis = 1, inplace = True)"
   ]
  },
  {
   "cell_type": "code",
   "execution_count": 19,
   "metadata": {},
   "outputs": [],
   "source": [
    "# Total_Stops\n",
    "train['Total_Stops'].replace(['1 stop', 'non-stop', '2 stops', '3 stops', '4 stops'], [1, 0, 2, 3, 4], inplace=True)\n",
    "test['Total_Stops'].replace(['1 stop', 'non-stop', '2 stops', '3 stops', '4 stops'], [1, 0, 2, 3, 4], inplace=True)"
   ]
  },
  {
   "cell_type": "code",
   "execution_count": 20,
   "metadata": {},
   "outputs": [],
   "source": [
    "# Making a copy for EDA\n",
    "df1 = train.copy()"
   ]
  },
  {
   "cell_type": "markdown",
   "metadata": {},
   "source": [
    "## EDA on Training Set"
   ]
  },
  {
   "cell_type": "code",
   "execution_count": 21,
   "metadata": {},
   "outputs": [
    {
     "data": {
      "image/png": "[encoded data removed]",
      "text/plain": [
       "<Figure size 432x288 with 1 Axes>"
      ]
     },
     "metadata": {
      "needs_background": "light"
     },
     "output_type": "display_data"
    }
   ],
   "source": [
    "# Prices on the following months\n",
    "plt = sns.barplot(x=\"Journey_month\", y=\"Price\", data=df1)"
   ]
  },
  {
   "cell_type": "code",
   "execution_count": 22,
   "metadata": {},
   "outputs": [
    {
     "data": {
      "text/plain": [
       "5    3395\n",
       "6    3311\n",
       "3    2678\n",
       "4    1078\n",
       "Name: Journey_month, dtype: int64"
      ]
     },
     "execution_count": 22,
     "metadata": {},
     "output_type": "execute_result"
    }
   ],
   "source": [
    "#count of flights per month\n",
    "top_month=df1.Journey_month.value_counts().head(20)\n",
    "top_month"
   ]
  },
  {
   "cell_type": "code",
   "execution_count": 23,
   "metadata": {},
   "outputs": [
    {
     "data": {
      "text/plain": [
       "<matplotlib.axes._subplots.AxesSubplot at 0x1242b9ee0>"
      ]
     },
     "execution_count": 23,
     "metadata": {},
     "output_type": "execute_result"
    },
    {
     "data": {
      "image/png": "[encoded data removed]",
      "text/plain": [
       "<Figure size 432x432 with 1 Axes>"
      ]
     },
     "metadata": {
      "needs_background": "light"
     },
     "output_type": "display_data"
    }
   ],
   "source": [
    "monthly_avg = df1.groupby(['Journey_month']).agg({'Price':np.mean}).reset_index()\n",
    "monthly_avg.plot(x=\"Journey_month\", y=\"Price\", figsize=(6, 6))"
   ]
  },
  {
   "cell_type": "code",
   "execution_count": 24,
   "metadata": {},
   "outputs": [
    {
     "data": {
      "text/plain": [
       "<seaborn.axisgrid.FacetGrid at 0x12432a220>"
      ]
     },
     "execution_count": 24,
     "metadata": {},
     "output_type": "execute_result"
    },
    {
     "data": {
      "image/png": "[encoded data removed]",
      "text/plain": [
       "<Figure size 1296x432 with 1 Axes>"
      ]
     },
     "metadata": {
      "needs_background": "light"
     },
     "output_type": "display_data"
    }
   ],
   "source": [
    "# Destination vs AveragePrice\n",
    "sns.catplot(y='Price', x='Destination', data= df1.sort_values('Price',ascending=False), kind=\"boxen\", height=6, aspect=3)"
   ]
  },
  {
   "cell_type": "markdown",
   "metadata": {},
   "source": [
    "The airfare price range in Delhi & New Delhi is the maximum, this can be due to: Jet fuel prices in Delhi had increased in the year of 2018 by 26.4%, it is also the National Capital, political seat of power and a highly visited place for vacations(same for bangalore & cochin)"
   ]
  },
  {
   "cell_type": "code",
   "execution_count": 25,
   "metadata": {},
   "outputs": [
    {
     "data": {
      "text/plain": [
       "<seaborn.axisgrid.FacetGrid at 0x1240cfd30>"
      ]
     },
     "execution_count": 25,
     "metadata": {},
     "output_type": "execute_result"
    },
    {
     "data": {
      "image/png": "[encoded data removed]",
      "text/plain": [
       "<Figure size 1296x432 with 1 Axes>"
      ]
     },
     "metadata": {
      "needs_background": "light"
     },
     "output_type": "display_data"
    }
   ],
   "source": [
    "# Source vs AveragePrice\n",
    "sns.catplot(y='Price',x='Source',data= train.sort_values('Price',ascending=False),kind=\"boxen\",height=6, aspect=3)"
   ]
  },
  {
   "cell_type": "code",
   "execution_count": 26,
   "metadata": {},
   "outputs": [
    {
     "data": {
      "image/png": "[encoded data removed]",
      "text/plain": [
       "<Figure size 432x288 with 1 Axes>"
      ]
     },
     "metadata": {
      "needs_background": "light"
     },
     "output_type": "display_data"
    }
   ],
   "source": [
    "# Number of flights vs Airlines\n",
    "ax = sns.countplot(x = 'Airline', data =train)\n",
    "# plt.figure(figsize = (10, 10))\n",
    "# plt.title('Count of flights with different Airlines')\n",
    "# plt.xlabel('Airline')\n",
    "# plt.ylabel('Count of flights')\n",
    "# plt.xticks(rotation = 90)\n",
    "\n",
    "# To get individual heights of the bar-plot\n",
    "for p in ax.patches:\n",
    "    ax.annotate(int(p.get_height()), (p.get_x()+0.25, p.get_height()+1), va='bottom', color= 'black')"
   ]
  },
  {
   "cell_type": "code",
   "execution_count": 27,
   "metadata": {},
   "outputs": [
    {
     "data": {
      "text/plain": [
       "<seaborn.axisgrid.FacetGrid at 0x1243fac10>"
      ]
     },
     "execution_count": 27,
     "metadata": {},
     "output_type": "execute_result"
    },
    {
     "data": {
      "image/png": "[encoded data removed]",
      "text/plain": [
       "<Figure size 1296x432 with 1 Axes>"
      ]
     },
     "metadata": {
      "needs_background": "light"
     },
     "output_type": "display_data"
    }
   ],
   "source": [
    "sns.catplot(y='Price', x='Airline', data= train.sort_values('Price',ascending=False), kind=\"boxen\", height=6, aspect=3)\n",
    "# plt.show"
   ]
  },
  {
   "cell_type": "markdown",
   "metadata": {},
   "source": [
    "Jet airways and Air India are full service airlines are and always highly priced due to various amenities they provide. Low-cost carriers like indigo and spicejet have a lower and similar fare range ."
   ]
  },
  {
   "cell_type": "code",
   "execution_count": 28,
   "metadata": {},
   "outputs": [
    {
     "data": {
      "text/plain": [
       "<matplotlib.axes._subplots.AxesSubplot at 0x1245e6940>"
      ]
     },
     "execution_count": 28,
     "metadata": {},
     "output_type": "execute_result"
    },
    {
     "data": {
      "image/png": "[encoded data removed]",
      "text/plain": [
       "<Figure size 432x288 with 1 Axes>"
      ]
     },
     "metadata": {
      "needs_background": "light"
     },
     "output_type": "display_data"
    }
   ],
   "source": [
    "sns.scatterplot(x=\"Duration\", y=\"Price\", data=train)"
   ]
  },
  {
   "cell_type": "markdown",
   "metadata": {},
   "source": [
    "We know that duration( or distance) plays a major role in affecting air ticket prices but we see no such pattern here, as there must be there are other significant factors affecting air fare like type of airline, destination of flight, date of journey of flight(higher if collides with a public holiday)\n"
   ]
  },
  {
   "cell_type": "code",
   "execution_count": 29,
   "metadata": {},
   "outputs": [
    {
     "data": {
      "text/plain": [
       "<matplotlib.axes._subplots.AxesSubplot at 0x124642250>"
      ]
     },
     "execution_count": 29,
     "metadata": {},
     "output_type": "execute_result"
    },
    {
     "data": {
      "image/png": "[encoded data removed]",
      "text/plain": [
       "<Figure size 432x288 with 1 Axes>"
      ]
     },
     "metadata": {
      "needs_background": "light"
     },
     "output_type": "display_data"
    }
   ],
   "source": [
    "# Dept time vs average price\n",
    "sns.barplot(x=\"Dep_hour\", y=\"Price\", data=train)"
   ]
  },
  {
   "cell_type": "code",
   "execution_count": 30,
   "metadata": {},
   "outputs": [
    {
     "data": {
      "text/plain": [
       "0      40\n",
       "1      37\n",
       "2     194\n",
       "3      24\n",
       "4     169\n",
       "5     582\n",
       "6     675\n",
       "7     863\n",
       "8     694\n",
       "9     886\n",
       "10    527\n",
       "11    579\n",
       "12    178\n",
       "13    411\n",
       "14    505\n",
       "15    319\n",
       "16    461\n",
       "17    689\n",
       "18    441\n",
       "19    544\n",
       "20    649\n",
       "21    489\n",
       "22    373\n",
       "23    133\n",
       "Name: Dep_hour, dtype: int64"
      ]
     },
     "execution_count": 30,
     "metadata": {},
     "output_type": "execute_result"
    }
   ],
   "source": [
    "# Number of flights leaving at each hour of the day\n",
    "train.Dep_hour.value_counts().sort_index()"
   ]
  },
  {
   "cell_type": "markdown",
   "metadata": {},
   "source": [
    "Early Morning flights are always cheaper and so are midnight flight prices.\n",
    "Evening flight fares are expensive due to more demand and is the most convenient time to tarvel for most people."
   ]
  },
  {
   "cell_type": "code",
   "execution_count": 31,
   "metadata": {},
   "outputs": [
    {
     "data": {
      "image/png": "[encoded data removed]",
      "text/plain": [
       "<Figure size 432x288 with 1 Axes>"
      ]
     },
     "metadata": {
      "needs_background": "light"
     },
     "output_type": "display_data"
    }
   ],
   "source": [
    "plot = sns.barplot(x=\"Total_Stops\", y=\"Price\", data=train)"
   ]
  },
  {
   "cell_type": "code",
   "execution_count": 32,
   "metadata": {},
   "outputs": [
    {
     "data": {
      "image/png": "[encoded data removed]",
      "text/plain": [
       "<Figure size 432x288 with 1 Axes>"
      ]
     },
     "metadata": {
      "needs_background": "light"
     },
     "output_type": "display_data"
    }
   ],
   "source": [
    "#Count of flights with different dates\n",
    "# plt.figure(figsize = (8, 8))\n",
    "# plt.title('Count of flights with different dates')\n",
    "ax = sns.countplot(x = 'Journey_day', data =train)\n",
    "# plt.xlabel('Journey_Day')\n",
    "# plt.ylabel('Count of flights')\n",
    "# plt.xticks(rotation = 90)\n",
    "for p in ax.patches:\n",
    "    ax.annotate(int(p.get_height()), (p.get_x()+0.25, p.get_height()+1), va='bottom', color= 'black')"
   ]
  },
  {
   "cell_type": "code",
   "execution_count": 33,
   "metadata": {},
   "outputs": [
    {
     "data": {
      "image/png": "[encoded data removed]",
      "text/plain": [
       "<Figure size 432x288 with 1 Axes>"
      ]
     },
     "metadata": {
      "needs_background": "light"
     },
     "output_type": "display_data"
    }
   ],
   "source": [
    "# Average price per departure day\n",
    "ax = sns.barplot(x=\"Journey_day\", y=\"Price\", data=train)"
   ]
  },
  {
   "cell_type": "markdown",
   "metadata": {},
   "source": [
    "### Outlier detection"
   ]
  },
  {
   "cell_type": "code",
   "execution_count": 34,
   "metadata": {},
   "outputs": [],
   "source": [
    "ncol=[\"Duration\"]          \n",
    "for i in ncol:\n",
    "    q75, q25 = np.percentile(train.loc[:,i], [75 ,25])\n",
    "    iqr = q75 - q25\n",
    "    min = q25 - (iqr*1.5)\n",
    "    max = q75 + (iqr*1.5)\n",
    "    train = train.drop(train[train.loc[:,i] <= min].index)\n",
    "    train = train.drop(train[train.loc[:,i] >= max].index)"
   ]
  },
  {
   "cell_type": "code",
   "execution_count": 35,
   "metadata": {},
   "outputs": [
    {
     "data": {
      "text/plain": [
       "(10387, 14)"
      ]
     },
     "execution_count": 35,
     "metadata": {},
     "output_type": "execute_result"
    }
   ],
   "source": [
    "train.shape"
   ]
  },
  {
   "cell_type": "markdown",
   "metadata": {},
   "source": [
    "### Correlation Test"
   ]
  },
  {
   "cell_type": "markdown",
   "metadata": {},
   "source": [
    "Pearson correlation coefficient : To check the linear association between the target variable and independent continuous variable.(this condition needs to be met)\n",
    "\n",
    "**H0**: Two variables are not correlated\n",
    "\n",
    "**H1**: Two variables are correlated\n",
    "\n",
    "if p-value < 0.05, then we reject the null hypothesis and accept the H1, saying they are correlated."
   ]
  },
  {
   "cell_type": "code",
   "execution_count": 52,
   "metadata": {},
   "outputs": [
    {
     "data": {
      "image/png": "[encoded data removed]",
      "text/plain": [
       "<Figure size 432x432 with 3 Axes>"
      ]
     },
     "metadata": {
      "needs_background": "light"
     },
     "output_type": "display_data"
    }
   ],
   "source": [
    "import scipy.stats as stats\n",
    "_ = sns.jointplot(x=\"Duration\", y=\"Price\", data=train, kind='reg');\n",
    "_.annotate(stats.pearsonr);"
   ]
  },
  {
   "cell_type": "markdown",
   "metadata": {},
   "source": [
    "We get p-value < 0.05, hence we accept H1 and say the target variable and continuous independent variable are correlated. r = 0.51 says they are moderately related."
   ]
  },
  {
   "cell_type": "markdown",
   "metadata": {},
   "source": [
    "## Fetaure Encoding"
   ]
  },
  {
   "cell_type": "code",
   "execution_count": 44,
   "metadata": {},
   "outputs": [],
   "source": [
    "# Handling Numerical and Categorical varibles\n",
    "data = train.drop([\"Price\"], axis=1)"
   ]
  },
  {
   "cell_type": "code",
   "execution_count": 45,
   "metadata": {},
   "outputs": [],
   "source": [
    "# Exrtracting all the numerical and categorical in a seperated df\n",
    "train_categorical_data = data.select_dtypes(exclude=['int64', 'float','int32'])\n",
    "train_numerical_data = data.select_dtypes(include=['int64', 'float','int32'])\n",
    "\n",
    "test_categorical_data = test.select_dtypes(exclude=['int64', 'float','int32','int32'])\n",
    "test_numerical_data  = test.select_dtypes(include=['int64', 'float','int32'])"
   ]
  },
  {
   "cell_type": "code",
   "execution_count": 46,
   "metadata": {},
   "outputs": [
    {
     "data": {
      "text/html": [
       "<div>\n",
       "<style scoped>\n",
       "    .dataframe tbody tr th:only-of-type {\n",
       "        vertical-align: middle;\n",
       "    }\n",
       "\n",
       "    .dataframe tbody tr th {\n",
       "        vertical-align: top;\n",
       "    }\n",
       "\n",
       "    .dataframe thead th {\n",
       "        text-align: right;\n",
       "    }\n",
       "</style>\n",
       "<table border=\"1\" class=\"dataframe\">\n",
       "  <thead>\n",
       "    <tr style=\"text-align: right;\">\n",
       "      <th></th>\n",
       "      <th>Airline</th>\n",
       "      <th>Source</th>\n",
       "      <th>Destination</th>\n",
       "      <th>Route</th>\n",
       "      <th>Additional_Info</th>\n",
       "    </tr>\n",
       "  </thead>\n",
       "  <tbody>\n",
       "    <tr>\n",
       "      <th>0</th>\n",
       "      <td>IndiGo</td>\n",
       "      <td>Banglore</td>\n",
       "      <td>New Delhi</td>\n",
       "      <td>BLR → DEL</td>\n",
       "      <td>No info</td>\n",
       "    </tr>\n",
       "    <tr>\n",
       "      <th>1</th>\n",
       "      <td>Air India</td>\n",
       "      <td>Kolkata</td>\n",
       "      <td>Banglore</td>\n",
       "      <td>CCU → IXR → BBI → BLR</td>\n",
       "      <td>No info</td>\n",
       "    </tr>\n",
       "    <tr>\n",
       "      <th>2</th>\n",
       "      <td>Jet Airways</td>\n",
       "      <td>Delhi</td>\n",
       "      <td>Cochin</td>\n",
       "      <td>DEL → LKO → BOM → COK</td>\n",
       "      <td>No info</td>\n",
       "    </tr>\n",
       "    <tr>\n",
       "      <th>3</th>\n",
       "      <td>IndiGo</td>\n",
       "      <td>Kolkata</td>\n",
       "      <td>Banglore</td>\n",
       "      <td>CCU → NAG → BLR</td>\n",
       "      <td>No info</td>\n",
       "    </tr>\n",
       "    <tr>\n",
       "      <th>4</th>\n",
       "      <td>IndiGo</td>\n",
       "      <td>Banglore</td>\n",
       "      <td>New Delhi</td>\n",
       "      <td>BLR → NAG → DEL</td>\n",
       "      <td>No info</td>\n",
       "    </tr>\n",
       "  </tbody>\n",
       "</table>\n",
       "</div>"
      ],
      "text/plain": [
       "       Airline    Source Destination                  Route Additional_Info\n",
       "0       IndiGo  Banglore   New Delhi              BLR → DEL         No info\n",
       "1    Air India   Kolkata    Banglore  CCU → IXR → BBI → BLR         No info\n",
       "2  Jet Airways     Delhi      Cochin  DEL → LKO → BOM → COK         No info\n",
       "3       IndiGo   Kolkata    Banglore        CCU → NAG → BLR         No info\n",
       "4       IndiGo  Banglore   New Delhi        BLR → NAG → DEL         No info"
      ]
     },
     "execution_count": 46,
     "metadata": {},
     "output_type": "execute_result"
    }
   ],
   "source": [
    "train_categorical_data.head()"
   ]
  },
  {
   "cell_type": "code",
   "execution_count": 47,
   "metadata": {},
   "outputs": [],
   "source": [
    "# Label encode and hot encode categorical columns\n",
    "from sklearn.preprocessing import LabelEncoder\n",
    "\n",
    "le = LabelEncoder()\n",
    "train_categorical_data = train_categorical_data.apply(LabelEncoder().fit_transform)\n",
    "test_categorical_data = test_categorical_data.apply(LabelEncoder().fit_transform)"
   ]
  },
  {
   "cell_type": "code",
   "execution_count": 48,
   "metadata": {},
   "outputs": [
    {
     "data": {
      "text/html": [
       "<div>\n",
       "<style scoped>\n",
       "    .dataframe tbody tr th:only-of-type {\n",
       "        vertical-align: middle;\n",
       "    }\n",
       "\n",
       "    .dataframe tbody tr th {\n",
       "        vertical-align: top;\n",
       "    }\n",
       "\n",
       "    .dataframe thead th {\n",
       "        text-align: right;\n",
       "    }\n",
       "</style>\n",
       "<table border=\"1\" class=\"dataframe\">\n",
       "  <thead>\n",
       "    <tr style=\"text-align: right;\">\n",
       "      <th></th>\n",
       "      <th>Airline</th>\n",
       "      <th>Source</th>\n",
       "      <th>Destination</th>\n",
       "      <th>Route</th>\n",
       "      <th>Additional_Info</th>\n",
       "    </tr>\n",
       "  </thead>\n",
       "  <tbody>\n",
       "    <tr>\n",
       "      <th>0</th>\n",
       "      <td>3</td>\n",
       "      <td>0</td>\n",
       "      <td>5</td>\n",
       "      <td>18</td>\n",
       "      <td>7</td>\n",
       "    </tr>\n",
       "    <tr>\n",
       "      <th>1</th>\n",
       "      <td>1</td>\n",
       "      <td>3</td>\n",
       "      <td>0</td>\n",
       "      <td>83</td>\n",
       "      <td>7</td>\n",
       "    </tr>\n",
       "    <tr>\n",
       "      <th>2</th>\n",
       "      <td>4</td>\n",
       "      <td>2</td>\n",
       "      <td>1</td>\n",
       "      <td>117</td>\n",
       "      <td>7</td>\n",
       "    </tr>\n",
       "    <tr>\n",
       "      <th>3</th>\n",
       "      <td>3</td>\n",
       "      <td>3</td>\n",
       "      <td>0</td>\n",
       "      <td>90</td>\n",
       "      <td>7</td>\n",
       "    </tr>\n",
       "    <tr>\n",
       "      <th>4</th>\n",
       "      <td>3</td>\n",
       "      <td>0</td>\n",
       "      <td>5</td>\n",
       "      <td>29</td>\n",
       "      <td>7</td>\n",
       "    </tr>\n",
       "  </tbody>\n",
       "</table>\n",
       "</div>"
      ],
      "text/plain": [
       "   Airline  Source  Destination  Route  Additional_Info\n",
       "0        3       0            5     18                7\n",
       "1        1       3            0     83                7\n",
       "2        4       2            1    117                7\n",
       "3        3       3            0     90                7\n",
       "4        3       0            5     29                7"
      ]
     },
     "execution_count": 48,
     "metadata": {},
     "output_type": "execute_result"
    }
   ],
   "source": [
    "train_categorical_data.head()"
   ]
  },
  {
   "cell_type": "code",
   "execution_count": 49,
   "metadata": {},
   "outputs": [],
   "source": [
    "X = pd.concat([train_categorical_data, train_numerical_data], axis=1)\n",
    "y = train['Price']\n",
    "test_set = pd.concat([test_categorical_data, test_numerical_data], axis=1)"
   ]
  },
  {
   "cell_type": "markdown",
   "metadata": {},
   "source": [
    "## Building ML models"
   ]
  },
  {
   "cell_type": "code",
   "execution_count": 53,
   "metadata": {},
   "outputs": [],
   "source": [
    "# ML Imports\n",
    "from sklearn.preprocessing import StandardScaler\n",
    "from sklearn.model_selection import train_test_split\n",
    "from sklearn.metrics import mean_squared_error as mse\n",
    "from sklearn.metrics import r2_score\n",
    "\n",
    "from math import sqrt\n",
    "\n",
    "from sklearn.model_selection import GridSearchCV\n",
    "from sklearn.model_selection import RandomizedSearchCV\n",
    "from sklearn.model_selection import train_test_split\n",
    "\n",
    "from sklearn.neighbors import KNeighborsRegressor\n",
    "from sklearn.linear_model import Ridge\n",
    "from sklearn.linear_model import Lasso\n",
    "from sklearn.tree import DecisionTreeRegressor\n",
    "from sklearn.ensemble import RandomForestRegressor\n",
    "from xgboost import XGBRegressor\n",
    "from sklearn.model_selection import KFold\n",
    "\n",
    "def mean_absolute_percentage_error(y_true, y_pred): \n",
    "    y_true, y_pred = np.array(y_true), np.array(y_pred)\n",
    "    return np.mean(np.abs((y_true - y_pred) / y_true)) * 100"
   ]
  },
  {
   "cell_type": "code",
   "execution_count": 57,
   "metadata": {},
   "outputs": [],
   "source": [
    "# Splitting the data\n",
    "X_train, X_test, y_train, y_test = train_test_split(X, y, test_size=0.3, random_state=42)"
   ]
  },
  {
   "cell_type": "code",
   "execution_count": 59,
   "metadata": {},
   "outputs": [
    {
     "name": "stdout",
     "output_type": "stream",
     "text": [
      "Shape of all the data\n",
      "X_train: (7270, 13)\n",
      "X_test: (3117, 13)\n",
      "y_train: (7270,)\n",
      "y_test: (3117,)\n"
     ]
    }
   ],
   "source": [
    "print(\"Shape of all the data\\nX_train: %s\\nX_test: %s\\ny_train: %s\\ny_test: %s\" %(str(X_train.shape), str(X_test.shape), str(y_train.shape), str(y_test.shape)))"
   ]
  },
  {
   "cell_type": "code",
   "execution_count": 66,
   "metadata": {},
   "outputs": [],
   "source": [
    "def model_metrics(y_train, y_train_pred, y_test, y_test_pred):\n",
    "    print(\"Metrics for training data\")\n",
    "    print(\"Root mean squared error: \", sqrt(mse(y_train.values, y_train_pred)))\n",
    "    print(\"Mean absolute % error: \", round(mean_absolute_percentage_error(y_train.values, y_train_pred)))\n",
    "    print(\"R-squared: \", r2_score(y_train.values, y_train_pred))\n",
    "    print(\"\\nMetrics for test data\")\n",
    "    print(\"Root mean squared error: \", sqrt(mse(y_test.values, y_test_pred)))\n",
    "    print(\"Mean absolute % error: \", round(mean_absolute_percentage_error(y_test.values, y_test_pred)))\n",
    "    print(\"R-squared: \", r2_score(y_test.values, y_test_pred))"
   ]
  },
  {
   "cell_type": "markdown",
   "metadata": {},
   "source": [
    "### Lasso Regressor"
   ]
  },
  {
   "cell_type": "code",
   "execution_count": 67,
   "metadata": {},
   "outputs": [
    {
     "name": "stdout",
     "output_type": "stream",
     "text": [
      "Metrics for training data\n",
      "Root mean squared error:  3585.620537856936\n",
      "Mean absolute % error:  32\n",
      "R-squared:  0.42554909435642574\n",
      "\n",
      "Metrics for test data\n",
      "Root mean squared error:  3171.1330347304233\n",
      "Mean absolute % error:  33\n",
      "R-squared:  0.4686567462144139\n"
     ]
    }
   ],
   "source": [
    "# Lasso Regressor\n",
    "\n",
    "# Training the model\n",
    "params ={'alpha' :[0.0001, 0.001, 0.01, 0.1, 1, 10, 100, 1000, 10000, 100000]}\n",
    "lasso_regressor = GridSearchCV(Lasso(), params, cv=15, scoring='neg_mean_absolute_error', n_jobs =-1)\n",
    "lasso_regressor.fit(X_train ,y_train)\n",
    "\n",
    "# Predicting the scores\n",
    "y_train_pred = lasso_regressor.predict(X_train)\n",
    "y_test_pred = lasso_regressor.predict(X_test)\n",
    "\n",
    "# Getting the model score\n",
    "model_metrics(y_train, y_train_pred, y_test, y_test_pred)"
   ]
  },
  {
   "cell_type": "markdown",
   "metadata": {},
   "source": [
    "### Ridge Regressor"
   ]
  },
  {
   "cell_type": "code",
   "execution_count": 68,
   "metadata": {},
   "outputs": [
    {
     "name": "stdout",
     "output_type": "stream",
     "text": [
      "Metrics for training data\n",
      "Root mean squared error:  3574.6038282904838\n",
      "Mean absolute % error:  32\n",
      "R-squared:  0.42907363721821146\n",
      "\n",
      "Metrics for test data\n",
      "Root mean squared error:  3170.4852741478003\n",
      "Mean absolute % error:  33\n",
      "R-squared:  0.4688737967506671\n"
     ]
    }
   ],
   "source": [
    "params = {'alpha' :[0.0001, 0.001, 0.01, 0.1, 1, 10, 100, 1000, 10000, 100000]}\n",
    "ridge_regressor = GridSearchCV(Ridge(), params ,cv =5,scoring = 'neg_mean_absolute_error', n_jobs =-1)\n",
    "ridge_regressor.fit(X_train ,y_train)\n",
    "\n",
    "y_train_pred =ridge_regressor.predict(X_train)\n",
    "y_test_pred =ridge_regressor.predict(X_test)\n",
    "\n",
    "model_metrics(y_train, y_train_pred, y_test, y_test_pred)"
   ]
  },
  {
   "cell_type": "code",
   "execution_count": 78,
   "metadata": {},
   "outputs": [
    {
     "data": {
      "text/plain": [
       "{'alpha': 10}"
      ]
     },
     "execution_count": 78,
     "metadata": {},
     "output_type": "execute_result"
    }
   ],
   "source": [
    "ridge_regressor.best_params_"
   ]
  },
  {
   "cell_type": "markdown",
   "metadata": {},
   "source": [
    "### K Neighbors Regressor"
   ]
  },
  {
   "cell_type": "code",
   "execution_count": 71,
   "metadata": {},
   "outputs": [
    {
     "name": "stdout",
     "output_type": "stream",
     "text": [
      "Metrics for training data\n",
      "Root mean squared error:  2568.7026853817097\n",
      "Mean absolute % error:  15\n",
      "R-squared:  0.7051833924940167\n",
      "\n",
      "Metrics for test data\n",
      "Root mean squared error:  2761.6698075189856\n",
      "Mean absolute % error:  20\n",
      "R-squared:  0.5970141926106909\n"
     ]
    }
   ],
   "source": [
    "k_range = list(range(1, 30))\n",
    "params = dict(n_neighbors = k_range)\n",
    "knn_regressor = GridSearchCV(KNeighborsRegressor(), params, cv =10, scoring = 'neg_mean_squared_error')\n",
    "knn_regressor.fit(X_train, y_train)\n",
    "\n",
    "y_train_pred = knn_regressor.predict(X_train)\n",
    "y_test_pred = knn_regressor.predict(X_test)\n",
    "\n",
    "model_metrics(y_train, y_train_pred, y_test, y_test_pred)"
   ]
  },
  {
   "cell_type": "code",
   "execution_count": 76,
   "metadata": {},
   "outputs": [
    {
     "data": {
      "text/plain": [
       "{'n_neighbors': 5}"
      ]
     },
     "execution_count": 76,
     "metadata": {},
     "output_type": "execute_result"
    }
   ],
   "source": [
    "# Best params\n",
    "knn_regressor.best_params_"
   ]
  },
  {
   "cell_type": "markdown",
   "metadata": {},
   "source": [
    "### Decision Tree Regressor"
   ]
  },
  {
   "cell_type": "code",
   "execution_count": 84,
   "metadata": {},
   "outputs": [
    {
     "name": "stdout",
     "output_type": "stream",
     "text": [
      "Metrics for training data\n",
      "Root mean squared error:  316.3034578627401\n",
      "Mean absolute % error:  1\n",
      "R-squared:  0.9955297465779563\n",
      "\n",
      "Metrics for test data\n",
      "Root mean squared error:  1750.4173453623976\n",
      "Mean absolute % error:  9\n",
      "R-squared:  0.8381064808317195\n"
     ]
    }
   ],
   "source": [
    "depth = list(range(0,30))\n",
    "param_grid = dict(max_depth=depth)\n",
    "tree = GridSearchCV(DecisionTreeRegressor(),param_grid,cv =10)\n",
    "tree.fit(X_train,y_train)\n",
    "\n",
    "y_train_pred = tree.predict(X_train)\n",
    "y_test_pred = tree.predict(X_test)\n",
    "\n",
    "model_metrics(y_train, y_train_pred, y_test, y_test_pred)"
   ]
  },
  {
   "cell_type": "code",
   "execution_count": 85,
   "metadata": {},
   "outputs": [
    {
     "data": {
      "text/plain": [
       "{'max_depth': 19}"
      ]
     },
     "execution_count": 85,
     "metadata": {},
     "output_type": "execute_result"
    }
   ],
   "source": [
    "tree.best_params_"
   ]
  },
  {
   "cell_type": "markdown",
   "metadata": {},
   "source": [
    "### Random Forest Regressor"
   ]
  },
  {
   "cell_type": "code",
   "execution_count": 93,
   "metadata": {},
   "outputs": [],
   "source": [
    "tuned_params = {'n_estimators': [100, 200, 300, 400, 500], 'min_samples_split': [2, 5, 10], 'min_samples_leaf': [1, 2, 4]}\n",
    "random_regressor = GridSearchCV(RandomForestRegressor(), tuned_params, verbose=2, cv=10)\n",
    "random_regressor.fit(X_train, y_train)\n",
    "\n",
    "y_train_pred = random_regressor.predict(X_train)\n",
    "y_test_pred = random_regressor.predict(X_test)\n",
    "\n",
    "model_metrics(y_train, y_train_pred, y_test, y_test_pred)"
   ]
  },
  {
   "cell_type": "markdown",
   "metadata": {},
   "source": [
    "Metrics for training data\n",
    "\n",
    "- Root mean squared error:  695.2297226927843\n",
    "- Mean absolute % error:  3\n",
    "- R-squared:  0.9784036216763377\n",
    "\n",
    "Metrics for test data\n",
    "\n",
    "- Root mean squared error:  1254.143507715102\n",
    "- Mean absolute % error:  8\n",
    "- R-squared:  0.9168924047868204\n"
   ]
  },
  {
   "cell_type": "code",
   "execution_count": 91,
   "metadata": {},
   "outputs": [
    {
     "data": {
      "text/plain": [
       "{'min_samples_leaf': 1, 'min_samples_split': 2, 'n_estimators': 200}"
      ]
     },
     "execution_count": 91,
     "metadata": {},
     "output_type": "execute_result"
    }
   ],
   "source": [
    "random_regressor.best_params_"
   ]
  },
  {
   "cell_type": "markdown",
   "metadata": {},
   "source": [
    "### XGBoost Regressor"
   ]
  },
  {
   "cell_type": "code",
   "execution_count": 96,
   "metadata": {},
   "outputs": [],
   "source": [
    "tuned_params = {'max_depth': [1, 2, 3, 4, 5], 'learning_rate': [0.01, 0.05, 0.1], 'n_estimators': [100, 200, 300, 400, 500], 'reg_lambda': [0.001, 0.1, 1.0, 10.0, 100.0]}\n",
    "model = RandomizedSearchCV(XGBRegressor(), tuned_params, n_iter=20, scoring = 'neg_mean_absolute_error', cv=5, n_jobs=-1)\n",
    "model.fit(X_train, y_train)\n",
    "\n",
    "y_train_pred = model.predict(X_train)\n",
    "y_test_pred = model.predict(X_test)\n",
    "\n",
    "model_metrics(y_train, y_train_pred, y_test, y_test_pred)"
   ]
  },
  {
   "cell_type": "markdown",
   "metadata": {},
   "source": [
    "Train Results for XGBoost Regressor Model:\n",
    "\n",
    "- Root mean squared error:  1180.5395987324898\n",
    "- Mean absolute % error:  9.0\n",
    "- R-squared:  0.9356271400960482\n",
    "    \n",
    "Test Results for XGBoost Regressor Model:\n",
    "\n",
    "- Root mean squared error:  1567.100172837462\n",
    "- Mean absolute % error:  11.0\n",
    "- R-squared:  0.8817539869409088"
   ]
  },
  {
   "cell_type": "markdown",
   "metadata": {},
   "source": [
    "**Random Forest Regressor** & **XGB Regressor** are giving Maximum Accuracy as compare to other Regressor algorithm."
   ]
  },
  {
   "cell_type": "code",
   "execution_count": null,
   "metadata": {},
   "outputs": [],
   "source": []
  }
 ],
 "metadata": {
  "kernelspec": {
   "display_name": "Python 3",
   "language": "python",
   "name": "python3"
  },
  "language_info": {
   "codemirror_mode": {
    "name": "ipython",
    "version": 3
   },
   "file_extension": ".py",
   "mimetype": "text/x-python",
   "name": "python",
   "nbconvert_exporter": "python",
   "pygments_lexer": "ipython3",
   "version": "3.8.3"
  }
 },
 "nbformat": 4,
 "nbformat_minor": 4
}
