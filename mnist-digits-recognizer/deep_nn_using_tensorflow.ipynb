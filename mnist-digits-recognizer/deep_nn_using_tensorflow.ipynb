{
 "cells": [
  {
   "cell_type": "markdown",
   "id": "japanese-cleaning",
   "metadata": {
    "papermill": {
     "duration": 0.015919,
     "end_time": "2021-04-22T18:10:06.314011",
     "exception": false,
     "start_time": "2021-04-22T18:10:06.298092",
     "status": "completed"
    },
    "tags": []
   },
   "source": [
    "# MNIST Classification using Tensorflow\n",
    "\n",
    "Training a Deep Learning model on handwritten digits using Tensorflow and Keras to accurately predict the test set\n",
    "\n",
    "Kaggle link to the challenge - https://www.kaggle.com/c/digit-recognizer\n",
    "\n",
    "## Contents"
   ]
  },
  {
   "cell_type": "markdown",
   "id": "small-grounds",
   "metadata": {
    "papermill": {
     "duration": 0.014821,
     "end_time": "2021-04-22T18:10:06.344040",
     "exception": false,
     "start_time": "2021-04-22T18:10:06.329219",
     "status": "completed"
    },
    "tags": []
   },
   "source": [
    "## 0: Importing libraries and the dataset"
   ]
  },
  {
   "cell_type": "code",
   "execution_count": 1,
   "id": "greek-jaguar",
   "metadata": {
    "execution": {
     "iopub.execute_input": "2021-04-22T18:10:06.378719Z",
     "iopub.status.busy": "2021-04-22T18:10:06.377222Z",
     "iopub.status.idle": "2021-04-22T18:10:11.792739Z",
     "shell.execute_reply": "2021-04-22T18:10:11.792112Z"
    },
    "papermill": {
     "duration": 5.434052,
     "end_time": "2021-04-22T18:10:11.792885",
     "exception": false,
     "start_time": "2021-04-22T18:10:06.358833",
     "status": "completed"
    },
    "tags": []
   },
   "outputs": [],
   "source": [
    "# Importing the libraries\n",
    "import numpy as np\n",
    "import pandas as pd\n",
    "import seaborn as sns\n",
    "import matplotlib.pyplot as plt\n",
    "from sklearn.model_selection import train_test_split\n",
    "\n",
    "import tensorflow as tf\n",
    "from tensorflow.keras.layers import Dense, Flatten\n",
    "from tensorflow.keras.models import Sequential\n",
    "\n",
    "import warnings\n",
    "warnings.filterwarnings(\"ignore\")"
   ]
  },
  {
   "cell_type": "code",
   "execution_count": 2,
   "id": "answering-jersey",
   "metadata": {
    "execution": {
     "iopub.execute_input": "2021-04-22T18:10:11.828928Z",
     "iopub.status.busy": "2021-04-22T18:10:11.828404Z",
     "iopub.status.idle": "2021-04-22T18:10:16.510890Z",
     "shell.execute_reply": "2021-04-22T18:10:16.509764Z"
    },
    "papermill": {
     "duration": 4.702628,
     "end_time": "2021-04-22T18:10:16.511035",
     "exception": false,
     "start_time": "2021-04-22T18:10:11.808407",
     "status": "completed"
    },
    "tags": []
   },
   "outputs": [],
   "source": [
    "# Reading the data\n",
    "train = pd.read_csv(\"../input/digit-recognizer/train.csv\")\n",
    "test = pd.read_csv(\"../input/digit-recognizer/test.csv\")"
   ]
  },
  {
   "cell_type": "code",
   "execution_count": 3,
   "id": "controlled-student",
   "metadata": {
    "execution": {
     "iopub.execute_input": "2021-04-22T18:10:16.549193Z",
     "iopub.status.busy": "2021-04-22T18:10:16.548467Z",
     "iopub.status.idle": "2021-04-22T18:10:16.631458Z",
     "shell.execute_reply": "2021-04-22T18:10:16.630995Z"
    },
    "papermill": {
     "duration": 0.104928,
     "end_time": "2021-04-22T18:10:16.631595",
     "exception": false,
     "start_time": "2021-04-22T18:10:16.526667",
     "status": "completed"
    },
    "tags": []
   },
   "outputs": [],
   "source": [
    "# Seperating features and label\n",
    "y_train = train[\"label\"]\n",
    "X_train = train.drop([\"label\"], axis=1)"
   ]
  },
  {
   "cell_type": "markdown",
   "id": "photographic-affiliation",
   "metadata": {
    "papermill": {
     "duration": 0.014968,
     "end_time": "2021-04-22T18:10:16.662008",
     "exception": false,
     "start_time": "2021-04-22T18:10:16.647040",
     "status": "completed"
    },
    "tags": []
   },
   "source": [
    "## 1: Exploratory Data Analysis\n",
    "\n",
    "Performing EDA on the training dataset"
   ]
  },
  {
   "cell_type": "code",
   "execution_count": 4,
   "id": "oriented-defeat",
   "metadata": {
    "execution": {
     "iopub.execute_input": "2021-04-22T18:10:16.698027Z",
     "iopub.status.busy": "2021-04-22T18:10:16.697113Z",
     "iopub.status.idle": "2021-04-22T18:10:16.701379Z",
     "shell.execute_reply": "2021-04-22T18:10:16.700904Z"
    },
    "papermill": {
     "duration": 0.02441,
     "end_time": "2021-04-22T18:10:16.701481",
     "exception": false,
     "start_time": "2021-04-22T18:10:16.677071",
     "status": "completed"
    },
    "tags": []
   },
   "outputs": [
    {
     "data": {
      "text/plain": [
       "(42000, 784)"
      ]
     },
     "execution_count": 4,
     "metadata": {},
     "output_type": "execute_result"
    }
   ],
   "source": [
    "# Size of the training data\n",
    "X_train.shape"
   ]
  },
  {
   "cell_type": "code",
   "execution_count": 5,
   "id": "aggregate-strategy",
   "metadata": {
    "execution": {
     "iopub.execute_input": "2021-04-22T18:10:16.742230Z",
     "iopub.status.busy": "2021-04-22T18:10:16.738185Z",
     "iopub.status.idle": "2021-04-22T18:10:16.753645Z",
     "shell.execute_reply": "2021-04-22T18:10:16.754137Z"
    },
    "papermill": {
     "duration": 0.036934,
     "end_time": "2021-04-22T18:10:16.754269",
     "exception": false,
     "start_time": "2021-04-22T18:10:16.717335",
     "status": "completed"
    },
    "tags": []
   },
   "outputs": [
    {
     "data": {
      "text/html": [
       "<div>\n",
       "<style scoped>\n",
       "    .dataframe tbody tr th:only-of-type {\n",
       "        vertical-align: middle;\n",
       "    }\n",
       "\n",
       "    .dataframe tbody tr th {\n",
       "        vertical-align: top;\n",
       "    }\n",
       "\n",
       "    .dataframe thead th {\n",
       "        text-align: right;\n",
       "    }\n",
       "</style>\n",
       "<table border=\"1\" class=\"dataframe\">\n",
       "  <thead>\n",
       "    <tr style=\"text-align: right;\">\n",
       "      <th></th>\n",
       "      <th>pixel0</th>\n",
       "      <th>pixel1</th>\n",
       "      <th>pixel2</th>\n",
       "      <th>pixel3</th>\n",
       "      <th>pixel4</th>\n",
       "      <th>pixel5</th>\n",
       "      <th>pixel6</th>\n",
       "      <th>pixel7</th>\n",
       "      <th>pixel8</th>\n",
       "      <th>pixel9</th>\n",
       "      <th>...</th>\n",
       "      <th>pixel774</th>\n",
       "      <th>pixel775</th>\n",
       "      <th>pixel776</th>\n",
       "      <th>pixel777</th>\n",
       "      <th>pixel778</th>\n",
       "      <th>pixel779</th>\n",
       "      <th>pixel780</th>\n",
       "      <th>pixel781</th>\n",
       "      <th>pixel782</th>\n",
       "      <th>pixel783</th>\n",
       "    </tr>\n",
       "  </thead>\n",
       "  <tbody>\n",
       "    <tr>\n",
       "      <th>0</th>\n",
       "      <td>0</td>\n",
       "      <td>0</td>\n",
       "      <td>0</td>\n",
       "      <td>0</td>\n",
       "      <td>0</td>\n",
       "      <td>0</td>\n",
       "      <td>0</td>\n",
       "      <td>0</td>\n",
       "      <td>0</td>\n",
       "      <td>0</td>\n",
       "      <td>...</td>\n",
       "      <td>0</td>\n",
       "      <td>0</td>\n",
       "      <td>0</td>\n",
       "      <td>0</td>\n",
       "      <td>0</td>\n",
       "      <td>0</td>\n",
       "      <td>0</td>\n",
       "      <td>0</td>\n",
       "      <td>0</td>\n",
       "      <td>0</td>\n",
       "    </tr>\n",
       "    <tr>\n",
       "      <th>1</th>\n",
       "      <td>0</td>\n",
       "      <td>0</td>\n",
       "      <td>0</td>\n",
       "      <td>0</td>\n",
       "      <td>0</td>\n",
       "      <td>0</td>\n",
       "      <td>0</td>\n",
       "      <td>0</td>\n",
       "      <td>0</td>\n",
       "      <td>0</td>\n",
       "      <td>...</td>\n",
       "      <td>0</td>\n",
       "      <td>0</td>\n",
       "      <td>0</td>\n",
       "      <td>0</td>\n",
       "      <td>0</td>\n",
       "      <td>0</td>\n",
       "      <td>0</td>\n",
       "      <td>0</td>\n",
       "      <td>0</td>\n",
       "      <td>0</td>\n",
       "    </tr>\n",
       "    <tr>\n",
       "      <th>2</th>\n",
       "      <td>0</td>\n",
       "      <td>0</td>\n",
       "      <td>0</td>\n",
       "      <td>0</td>\n",
       "      <td>0</td>\n",
       "      <td>0</td>\n",
       "      <td>0</td>\n",
       "      <td>0</td>\n",
       "      <td>0</td>\n",
       "      <td>0</td>\n",
       "      <td>...</td>\n",
       "      <td>0</td>\n",
       "      <td>0</td>\n",
       "      <td>0</td>\n",
       "      <td>0</td>\n",
       "      <td>0</td>\n",
       "      <td>0</td>\n",
       "      <td>0</td>\n",
       "      <td>0</td>\n",
       "      <td>0</td>\n",
       "      <td>0</td>\n",
       "    </tr>\n",
       "    <tr>\n",
       "      <th>3</th>\n",
       "      <td>0</td>\n",
       "      <td>0</td>\n",
       "      <td>0</td>\n",
       "      <td>0</td>\n",
       "      <td>0</td>\n",
       "      <td>0</td>\n",
       "      <td>0</td>\n",
       "      <td>0</td>\n",
       "      <td>0</td>\n",
       "      <td>0</td>\n",
       "      <td>...</td>\n",
       "      <td>0</td>\n",
       "      <td>0</td>\n",
       "      <td>0</td>\n",
       "      <td>0</td>\n",
       "      <td>0</td>\n",
       "      <td>0</td>\n",
       "      <td>0</td>\n",
       "      <td>0</td>\n",
       "      <td>0</td>\n",
       "      <td>0</td>\n",
       "    </tr>\n",
       "    <tr>\n",
       "      <th>4</th>\n",
       "      <td>0</td>\n",
       "      <td>0</td>\n",
       "      <td>0</td>\n",
       "      <td>0</td>\n",
       "      <td>0</td>\n",
       "      <td>0</td>\n",
       "      <td>0</td>\n",
       "      <td>0</td>\n",
       "      <td>0</td>\n",
       "      <td>0</td>\n",
       "      <td>...</td>\n",
       "      <td>0</td>\n",
       "      <td>0</td>\n",
       "      <td>0</td>\n",
       "      <td>0</td>\n",
       "      <td>0</td>\n",
       "      <td>0</td>\n",
       "      <td>0</td>\n",
       "      <td>0</td>\n",
       "      <td>0</td>\n",
       "      <td>0</td>\n",
       "    </tr>\n",
       "  </tbody>\n",
       "</table>\n",
       "<p>5 rows × 784 columns</p>\n",
       "</div>"
      ],
      "text/plain": [
       "   pixel0  pixel1  pixel2  pixel3  pixel4  pixel5  pixel6  pixel7  pixel8  \\\n",
       "0       0       0       0       0       0       0       0       0       0   \n",
       "1       0       0       0       0       0       0       0       0       0   \n",
       "2       0       0       0       0       0       0       0       0       0   \n",
       "3       0       0       0       0       0       0       0       0       0   \n",
       "4       0       0       0       0       0       0       0       0       0   \n",
       "\n",
       "   pixel9  ...  pixel774  pixel775  pixel776  pixel777  pixel778  pixel779  \\\n",
       "0       0  ...         0         0         0         0         0         0   \n",
       "1       0  ...         0         0         0         0         0         0   \n",
       "2       0  ...         0         0         0         0         0         0   \n",
       "3       0  ...         0         0         0         0         0         0   \n",
       "4       0  ...         0         0         0         0         0         0   \n",
       "\n",
       "   pixel780  pixel781  pixel782  pixel783  \n",
       "0         0         0         0         0  \n",
       "1         0         0         0         0  \n",
       "2         0         0         0         0  \n",
       "3         0         0         0         0  \n",
       "4         0         0         0         0  \n",
       "\n",
       "[5 rows x 784 columns]"
      ]
     },
     "execution_count": 5,
     "metadata": {},
     "output_type": "execute_result"
    }
   ],
   "source": [
    "X_train.head(5)"
   ]
  },
  {
   "cell_type": "code",
   "execution_count": 6,
   "id": "entire-heritage",
   "metadata": {
    "execution": {
     "iopub.execute_input": "2021-04-22T18:10:16.791316Z",
     "iopub.status.busy": "2021-04-22T18:10:16.790788Z",
     "iopub.status.idle": "2021-04-22T18:10:16.961048Z",
     "shell.execute_reply": "2021-04-22T18:10:16.960626Z"
    },
    "papermill": {
     "duration": 0.190819,
     "end_time": "2021-04-22T18:10:16.961208",
     "exception": false,
     "start_time": "2021-04-22T18:10:16.770389",
     "status": "completed"
    },
    "tags": []
   },
   "outputs": [
    {
     "data": {
      "image/png": "[encoded data removed]",
      "text/plain": [
       "<Figure size 648x360 with 1 Axes>"
      ]
     },
     "metadata": {
      "needs_background": "light"
     },
     "output_type": "display_data"
    }
   ],
   "source": [
    "# Visualize the number of digits under each class\n",
    "plt.figure(figsize=(9, 5))\n",
    "sns.countplot(y_train)\n",
    "plt.title(\"Count plot\");"
   ]
  },
  {
   "cell_type": "code",
   "execution_count": 7,
   "id": "previous-source",
   "metadata": {
    "execution": {
     "iopub.execute_input": "2021-04-22T18:10:17.000681Z",
     "iopub.status.busy": "2021-04-22T18:10:16.999901Z",
     "iopub.status.idle": "2021-04-22T18:10:17.005622Z",
     "shell.execute_reply": "2021-04-22T18:10:17.006014Z"
    },
    "papermill": {
     "duration": 0.026945,
     "end_time": "2021-04-22T18:10:17.006155",
     "exception": false,
     "start_time": "2021-04-22T18:10:16.979210",
     "status": "completed"
    },
    "tags": []
   },
   "outputs": [
    {
     "data": {
      "text/plain": [
       "1    4684\n",
       "7    4401\n",
       "3    4351\n",
       "9    4188\n",
       "2    4177\n",
       "6    4137\n",
       "0    4132\n",
       "4    4072\n",
       "8    4063\n",
       "5    3795\n",
       "Name: label, dtype: int64"
      ]
     },
     "execution_count": 7,
     "metadata": {},
     "output_type": "execute_result"
    }
   ],
   "source": [
    "y_train.value_counts()"
   ]
  },
  {
   "cell_type": "markdown",
   "id": "impressive-memory",
   "metadata": {
    "papermill": {
     "duration": 0.017061,
     "end_time": "2021-04-22T18:10:17.040242",
     "exception": false,
     "start_time": "2021-04-22T18:10:17.023181",
     "status": "completed"
    },
    "tags": []
   },
   "source": [
    "There seem to be an equal distribution of class labels"
   ]
  },
  {
   "cell_type": "code",
   "execution_count": 8,
   "id": "stock-beaver",
   "metadata": {
    "execution": {
     "iopub.execute_input": "2021-04-22T18:10:17.101274Z",
     "iopub.status.busy": "2021-04-22T18:10:17.100440Z",
     "iopub.status.idle": "2021-04-22T18:10:17.188480Z",
     "shell.execute_reply": "2021-04-22T18:10:17.188862Z"
    },
    "papermill": {
     "duration": 0.131488,
     "end_time": "2021-04-22T18:10:17.189001",
     "exception": false,
     "start_time": "2021-04-22T18:10:17.057513",
     "status": "completed"
    },
    "tags": []
   },
   "outputs": [
    {
     "data": {
      "text/plain": [
       "<matplotlib.image.AxesImage at 0x7fa68252ddd0>"
      ]
     },
     "execution_count": 8,
     "metadata": {},
     "output_type": "execute_result"
    },
    {
     "data": {
      "image/png": "[encoded data removed]",
      "text/plain": [
       "<Figure size 432x288 with 1 Axes>"
      ]
     },
     "metadata": {
      "needs_background": "light"
     },
     "output_type": "display_data"
    }
   ],
   "source": [
    "# Displaying some training samples\n",
    "img_matrix = X_train.iloc[100].to_numpy()\n",
    "img_matrix = img_matrix.reshape(28, 28)\n",
    "\n",
    "plt.imshow(img_matrix, cmap=plt.cm.binary)"
   ]
  },
  {
   "cell_type": "markdown",
   "id": "satellite-minneapolis",
   "metadata": {
    "papermill": {
     "duration": 0.017829,
     "end_time": "2021-04-22T18:10:17.225010",
     "exception": false,
     "start_time": "2021-04-22T18:10:17.207181",
     "status": "completed"
    },
    "tags": []
   },
   "source": [
    "## 3: Feature Engineering\n",
    "\n",
    "Feature engineering is an essential step of data preprocessin, this helps the model converge much faster.\n",
    "We will be performing 3 main steps here\n",
    "1. Normalization - We will perform grey scale normalization to reduce the illumination difference it also helps the model train faster\n",
    "2. Reshape - We will drop the shape to 28x28. We will be adding an extra dimension, i.e 28x28x1 (Greyscale data). We have to add this extra dimension for keras, as \n",
    "3. Label Encoding - encoding labels to one hot vectors"
   ]
  },
  {
   "cell_type": "code",
   "execution_count": 9,
   "id": "nuclear-satin",
   "metadata": {
    "execution": {
     "iopub.execute_input": "2021-04-22T18:10:17.275970Z",
     "iopub.status.busy": "2021-04-22T18:10:17.274931Z",
     "iopub.status.idle": "2021-04-22T18:10:17.905258Z",
     "shell.execute_reply": "2021-04-22T18:10:17.904779Z"
    },
    "papermill": {
     "duration": 0.660218,
     "end_time": "2021-04-22T18:10:17.905387",
     "exception": false,
     "start_time": "2021-04-22T18:10:17.245169",
     "status": "completed"
    },
    "tags": []
   },
   "outputs": [],
   "source": [
    "# Normalization\n",
    "X_train = tf.keras.utils.normalize(X_train, axis=1)\n",
    "test = tf.keras.utils.normalize(test, axis=1)"
   ]
  },
  {
   "cell_type": "code",
   "execution_count": 10,
   "id": "expired-limitation",
   "metadata": {
    "execution": {
     "iopub.execute_input": "2021-04-22T18:10:17.946349Z",
     "iopub.status.busy": "2021-04-22T18:10:17.945748Z",
     "iopub.status.idle": "2021-04-22T18:10:17.949121Z",
     "shell.execute_reply": "2021-04-22T18:10:17.949506Z"
    },
    "papermill": {
     "duration": 0.025765,
     "end_time": "2021-04-22T18:10:17.949645",
     "exception": false,
     "start_time": "2021-04-22T18:10:17.923880",
     "status": "completed"
    },
    "tags": []
   },
   "outputs": [],
   "source": [
    "# Reshape\n",
    "X_train = X_train.values.reshape(-1, 28, 28)\n",
    "test = test.values.reshape(-1, 28, 28)"
   ]
  },
  {
   "cell_type": "markdown",
   "id": "atlantic-glass",
   "metadata": {
    "papermill": {
     "duration": 0.018152,
     "end_time": "2021-04-22T18:10:17.986015",
     "exception": false,
     "start_time": "2021-04-22T18:10:17.967863",
     "status": "completed"
    },
    "tags": []
   },
   "source": [
    "## 4: Train Test Split\n",
    "\n",
    "Splitting `X_train` into training data (90%) and test data (10%) using `sklearn.model_selection.train_test_split`"
   ]
  },
  {
   "cell_type": "code",
   "execution_count": 11,
   "id": "parliamentary-convenience",
   "metadata": {
    "execution": {
     "iopub.execute_input": "2021-04-22T18:10:18.027212Z",
     "iopub.status.busy": "2021-04-22T18:10:18.026439Z",
     "iopub.status.idle": "2021-04-22T18:10:18.457808Z",
     "shell.execute_reply": "2021-04-22T18:10:18.457054Z"
    },
    "papermill": {
     "duration": 0.453727,
     "end_time": "2021-04-22T18:10:18.457980",
     "exception": false,
     "start_time": "2021-04-22T18:10:18.004253",
     "status": "completed"
    },
    "tags": []
   },
   "outputs": [],
   "source": [
    "X_train, X_eval, y_train, y_eval = train_test_split(X_train, y_train, test_size=0.1, random_state=42)"
   ]
  },
  {
   "cell_type": "code",
   "execution_count": 12,
   "id": "mighty-organic",
   "metadata": {
    "execution": {
     "iopub.execute_input": "2021-04-22T18:10:18.526654Z",
     "iopub.status.busy": "2021-04-22T18:10:18.523970Z",
     "iopub.status.idle": "2021-04-22T18:10:18.529361Z",
     "shell.execute_reply": "2021-04-22T18:10:18.527449Z"
    },
    "papermill": {
     "duration": 0.042121,
     "end_time": "2021-04-22T18:10:18.529520",
     "exception": false,
     "start_time": "2021-04-22T18:10:18.487399",
     "status": "completed"
    },
    "tags": []
   },
   "outputs": [
    {
     "data": {
      "text/plain": [
       "((37800, 28, 28), (4200, 28, 28), (37800,), (4200,))"
      ]
     },
     "execution_count": 12,
     "metadata": {},
     "output_type": "execute_result"
    }
   ],
   "source": [
    "X_train.shape, X_eval.shape, y_train.shape, y_eval.shape"
   ]
  },
  {
   "cell_type": "markdown",
   "id": "reliable-finland",
   "metadata": {
    "papermill": {
     "duration": 0.032434,
     "end_time": "2021-04-22T18:10:18.594110",
     "exception": false,
     "start_time": "2021-04-22T18:10:18.561676",
     "status": "completed"
    },
    "tags": []
   },
   "source": [
    "## 5: Creating, Training and Fitting the model"
   ]
  },
  {
   "cell_type": "code",
   "execution_count": 13,
   "id": "north-ranking",
   "metadata": {
    "execution": {
     "iopub.execute_input": "2021-04-22T18:10:18.660959Z",
     "iopub.status.busy": "2021-04-22T18:10:18.660081Z",
     "iopub.status.idle": "2021-04-22T18:14:38.297228Z",
     "shell.execute_reply": "2021-04-22T18:14:38.298046Z"
    },
    "papermill": {
     "duration": 259.673573,
     "end_time": "2021-04-22T18:14:38.298225",
     "exception": false,
     "start_time": "2021-04-22T18:10:18.624652",
     "status": "completed"
    },
    "tags": []
   },
   "outputs": [
    {
     "name": "stdout",
     "output_type": "stream",
     "text": [
      "Epoch 1/100\n",
      "1182/1182 [==============================] - 4s 2ms/step - loss: 0.7730 - accuracy: 0.7876 - val_loss: 0.2402 - val_accuracy: 0.9283\n",
      "Epoch 2/100\n",
      "1182/1182 [==============================] - 2s 2ms/step - loss: 0.1972 - accuracy: 0.9416 - val_loss: 0.1821 - val_accuracy: 0.9426\n",
      "Epoch 3/100\n",
      "1182/1182 [==============================] - 2s 2ms/step - loss: 0.1417 - accuracy: 0.9576 - val_loss: 0.1412 - val_accuracy: 0.9569\n",
      "Epoch 4/100\n",
      "1182/1182 [==============================] - 3s 2ms/step - loss: 0.1095 - accuracy: 0.9666 - val_loss: 0.1232 - val_accuracy: 0.9614\n",
      "Epoch 5/100\n",
      "1182/1182 [==============================] - 2s 2ms/step - loss: 0.0862 - accuracy: 0.9727 - val_loss: 0.1128 - val_accuracy: 0.9655\n",
      "Epoch 6/100\n",
      "1182/1182 [==============================] - 2s 2ms/step - loss: 0.0697 - accuracy: 0.9793 - val_loss: 0.1012 - val_accuracy: 0.9695\n",
      "Epoch 7/100\n",
      "1182/1182 [==============================] - 2s 2ms/step - loss: 0.0559 - accuracy: 0.9831 - val_loss: 0.1046 - val_accuracy: 0.9688\n",
      "Epoch 8/100\n",
      "1182/1182 [==============================] - 3s 2ms/step - loss: 0.0425 - accuracy: 0.9872 - val_loss: 0.1094 - val_accuracy: 0.9679\n",
      "Epoch 9/100\n",
      "1182/1182 [==============================] - 2s 2ms/step - loss: 0.0343 - accuracy: 0.9890 - val_loss: 0.1068 - val_accuracy: 0.9702\n",
      "Epoch 10/100\n",
      "1182/1182 [==============================] - 2s 2ms/step - loss: 0.0283 - accuracy: 0.9914 - val_loss: 0.1110 - val_accuracy: 0.9700\n",
      "Epoch 11/100\n",
      "1182/1182 [==============================] - 3s 2ms/step - loss: 0.0212 - accuracy: 0.9930 - val_loss: 0.1122 - val_accuracy: 0.9702\n",
      "Epoch 12/100\n",
      "1182/1182 [==============================] - 3s 2ms/step - loss: 0.0185 - accuracy: 0.9948 - val_loss: 0.1121 - val_accuracy: 0.9712\n",
      "Epoch 13/100\n",
      "1182/1182 [==============================] - 3s 2ms/step - loss: 0.0152 - accuracy: 0.9955 - val_loss: 0.1112 - val_accuracy: 0.9702\n",
      "Epoch 14/100\n",
      "1182/1182 [==============================] - 3s 2ms/step - loss: 0.0121 - accuracy: 0.9960 - val_loss: 0.1319 - val_accuracy: 0.9698\n",
      "Epoch 15/100\n",
      "1182/1182 [==============================] - 2s 2ms/step - loss: 0.0120 - accuracy: 0.9963 - val_loss: 0.1254 - val_accuracy: 0.9698\n",
      "Epoch 16/100\n",
      "1182/1182 [==============================] - 2s 2ms/step - loss: 0.0104 - accuracy: 0.9965 - val_loss: 0.1185 - val_accuracy: 0.9698\n",
      "Epoch 17/100\n",
      "1182/1182 [==============================] - 3s 2ms/step - loss: 0.0109 - accuracy: 0.9969 - val_loss: 0.1153 - val_accuracy: 0.9721\n",
      "Epoch 18/100\n",
      "1182/1182 [==============================] - 2s 2ms/step - loss: 0.0071 - accuracy: 0.9977 - val_loss: 0.1476 - val_accuracy: 0.9624\n",
      "Epoch 19/100\n",
      "1182/1182 [==============================] - 2s 2ms/step - loss: 0.0066 - accuracy: 0.9978 - val_loss: 0.1267 - val_accuracy: 0.9721\n",
      "Epoch 20/100\n",
      "1182/1182 [==============================] - 2s 2ms/step - loss: 0.0069 - accuracy: 0.9978 - val_loss: 0.1332 - val_accuracy: 0.9710\n",
      "Epoch 21/100\n",
      "1182/1182 [==============================] - 3s 2ms/step - loss: 0.0076 - accuracy: 0.9976 - val_loss: 0.1403 - val_accuracy: 0.9707\n",
      "Epoch 22/100\n",
      "1182/1182 [==============================] - 3s 2ms/step - loss: 0.0031 - accuracy: 0.9993 - val_loss: 0.1369 - val_accuracy: 0.9717\n",
      "Epoch 23/100\n",
      "1182/1182 [==============================] - 3s 2ms/step - loss: 0.0117 - accuracy: 0.9959 - val_loss: 0.1447 - val_accuracy: 0.9705\n",
      "Epoch 24/100\n",
      "1182/1182 [==============================] - 3s 2ms/step - loss: 0.0039 - accuracy: 0.9991 - val_loss: 0.1432 - val_accuracy: 0.9726\n",
      "Epoch 25/100\n",
      "1182/1182 [==============================] - 3s 2ms/step - loss: 0.0074 - accuracy: 0.9971 - val_loss: 0.1255 - val_accuracy: 0.9726\n",
      "Epoch 26/100\n",
      "1182/1182 [==============================] - 2s 2ms/step - loss: 0.0022 - accuracy: 0.9995 - val_loss: 0.1384 - val_accuracy: 0.9736\n",
      "Epoch 27/100\n",
      "1182/1182 [==============================] - 2s 2ms/step - loss: 0.0044 - accuracy: 0.9986 - val_loss: 0.1549 - val_accuracy: 0.9695\n",
      "Epoch 28/100\n",
      "1182/1182 [==============================] - 2s 2ms/step - loss: 0.0051 - accuracy: 0.9983 - val_loss: 0.1565 - val_accuracy: 0.9724\n",
      "Epoch 29/100\n",
      "1182/1182 [==============================] - 2s 2ms/step - loss: 0.0046 - accuracy: 0.9985 - val_loss: 0.1624 - val_accuracy: 0.9693\n",
      "Epoch 30/100\n",
      "1182/1182 [==============================] - 3s 2ms/step - loss: 0.0060 - accuracy: 0.9978 - val_loss: 0.1513 - val_accuracy: 0.9719\n",
      "Epoch 31/100\n",
      "1182/1182 [==============================] - 2s 2ms/step - loss: 0.0025 - accuracy: 0.9994 - val_loss: 0.1554 - val_accuracy: 0.9707\n",
      "Epoch 32/100\n",
      "1182/1182 [==============================] - 2s 2ms/step - loss: 0.0016 - accuracy: 0.9997 - val_loss: 0.1476 - val_accuracy: 0.9748\n",
      "Epoch 33/100\n",
      "1182/1182 [==============================] - 2s 2ms/step - loss: 0.0082 - accuracy: 0.9973 - val_loss: 0.1544 - val_accuracy: 0.9717\n",
      "Epoch 34/100\n",
      "1182/1182 [==============================] - 3s 2ms/step - loss: 0.0025 - accuracy: 0.9992 - val_loss: 0.1547 - val_accuracy: 0.9714\n",
      "Epoch 35/100\n",
      "1182/1182 [==============================] - 3s 2ms/step - loss: 0.0056 - accuracy: 0.9980 - val_loss: 0.1617 - val_accuracy: 0.9695\n",
      "Epoch 36/100\n",
      "1182/1182 [==============================] - 3s 2ms/step - loss: 0.0012 - accuracy: 0.9998 - val_loss: 0.1437 - val_accuracy: 0.9750\n",
      "Epoch 37/100\n",
      "1182/1182 [==============================] - 3s 2ms/step - loss: 0.0051 - accuracy: 0.9984 - val_loss: 0.1636 - val_accuracy: 0.9719\n",
      "Epoch 38/100\n",
      "1182/1182 [==============================] - 3s 2ms/step - loss: 0.0046 - accuracy: 0.9986 - val_loss: 0.1579 - val_accuracy: 0.9729\n",
      "Epoch 39/100\n",
      "1182/1182 [==============================] - 2s 2ms/step - loss: 9.2887e-04 - accuracy: 0.9998 - val_loss: 0.1542 - val_accuracy: 0.9733\n",
      "Epoch 40/100\n",
      "1182/1182 [==============================] - 2s 2ms/step - loss: 0.0012 - accuracy: 0.9998 - val_loss: 0.1522 - val_accuracy: 0.9729\n",
      "Epoch 41/100\n",
      "1182/1182 [==============================] - 2s 2ms/step - loss: 0.0067 - accuracy: 0.9976 - val_loss: 0.1506 - val_accuracy: 0.9752\n",
      "Epoch 42/100\n",
      "1182/1182 [==============================] - 2s 2ms/step - loss: 5.6384e-04 - accuracy: 0.9999 - val_loss: 0.1878 - val_accuracy: 0.9655\n",
      "Epoch 43/100\n",
      "1182/1182 [==============================] - 3s 2ms/step - loss: 0.0054 - accuracy: 0.9983 - val_loss: 0.1580 - val_accuracy: 0.9724\n",
      "Epoch 44/100\n",
      "1182/1182 [==============================] - 2s 2ms/step - loss: 0.0042 - accuracy: 0.9988 - val_loss: 0.1641 - val_accuracy: 0.9740\n",
      "Epoch 45/100\n",
      "1182/1182 [==============================] - 2s 2ms/step - loss: 0.0047 - accuracy: 0.9981 - val_loss: 0.1646 - val_accuracy: 0.9721\n",
      "Epoch 46/100\n",
      "1182/1182 [==============================] - 2s 2ms/step - loss: 9.1356e-04 - accuracy: 0.9998 - val_loss: 0.1491 - val_accuracy: 0.9745\n",
      "Epoch 47/100\n",
      "1182/1182 [==============================] - 3s 3ms/step - loss: 0.0016 - accuracy: 0.9996 - val_loss: 0.1861 - val_accuracy: 0.9700\n",
      "Epoch 48/100\n",
      "1182/1182 [==============================] - 2s 2ms/step - loss: 0.0041 - accuracy: 0.9988 - val_loss: 0.1621 - val_accuracy: 0.9738\n",
      "Epoch 49/100\n",
      "1182/1182 [==============================] - 3s 2ms/step - loss: 9.7274e-04 - accuracy: 0.9997 - val_loss: 0.1529 - val_accuracy: 0.9740\n",
      "Epoch 50/100\n",
      "1182/1182 [==============================] - 2s 2ms/step - loss: 0.0019 - accuracy: 0.9994 - val_loss: 0.2076 - val_accuracy: 0.9681\n",
      "Epoch 51/100\n",
      "1182/1182 [==============================] - 3s 2ms/step - loss: 0.0047 - accuracy: 0.9982 - val_loss: 0.1885 - val_accuracy: 0.9688\n",
      "Epoch 52/100\n",
      "1182/1182 [==============================] - 2s 2ms/step - loss: 0.0017 - accuracy: 0.9995 - val_loss: 0.1597 - val_accuracy: 0.9736\n",
      "Epoch 53/100\n",
      "1182/1182 [==============================] - 2s 2ms/step - loss: 5.0032e-04 - accuracy: 0.9999 - val_loss: 0.2067 - val_accuracy: 0.9667\n",
      "Epoch 54/100\n",
      "1182/1182 [==============================] - 2s 2ms/step - loss: 0.0119 - accuracy: 0.9964 - val_loss: 0.1709 - val_accuracy: 0.9714\n",
      "Epoch 55/100\n",
      "1182/1182 [==============================] - 2s 2ms/step - loss: 9.7932e-04 - accuracy: 0.9999 - val_loss: 0.1680 - val_accuracy: 0.9731\n",
      "Epoch 56/100\n",
      "1182/1182 [==============================] - 3s 2ms/step - loss: 1.6767e-04 - accuracy: 1.0000 - val_loss: 0.1676 - val_accuracy: 0.9724\n",
      "Epoch 57/100\n",
      "1182/1182 [==============================] - 2s 2ms/step - loss: 3.4868e-05 - accuracy: 1.0000 - val_loss: 0.1664 - val_accuracy: 0.9731\n",
      "Epoch 58/100\n",
      "1182/1182 [==============================] - 2s 2ms/step - loss: 5.8374e-05 - accuracy: 1.0000 - val_loss: 0.1661 - val_accuracy: 0.9738\n",
      "Epoch 59/100\n",
      "1182/1182 [==============================] - 2s 2ms/step - loss: 2.0880e-04 - accuracy: 0.9999 - val_loss: 0.1659 - val_accuracy: 0.9736\n",
      "Epoch 60/100\n",
      "1182/1182 [==============================] - 3s 3ms/step - loss: 3.5192e-05 - accuracy: 1.0000 - val_loss: 0.1654 - val_accuracy: 0.9736\n",
      "Epoch 61/100\n",
      "1182/1182 [==============================] - 3s 2ms/step - loss: 1.8899e-05 - accuracy: 1.0000 - val_loss: 0.1649 - val_accuracy: 0.9750\n",
      "Epoch 62/100\n",
      "1182/1182 [==============================] - 3s 2ms/step - loss: 8.2326e-05 - accuracy: 1.0000 - val_loss: 0.1661 - val_accuracy: 0.9752\n",
      "Epoch 63/100\n",
      "1182/1182 [==============================] - 2s 2ms/step - loss: 0.0025 - accuracy: 0.9994 - val_loss: 0.1967 - val_accuracy: 0.9683\n",
      "Epoch 64/100\n",
      "1182/1182 [==============================] - 3s 2ms/step - loss: 0.0048 - accuracy: 0.9987 - val_loss: 0.1847 - val_accuracy: 0.9729\n",
      "Epoch 65/100\n",
      "1182/1182 [==============================] - 2s 2ms/step - loss: 0.0032 - accuracy: 0.9992 - val_loss: 0.1923 - val_accuracy: 0.9707\n",
      "Epoch 66/100\n",
      "1182/1182 [==============================] - 2s 2ms/step - loss: 0.0020 - accuracy: 0.9995 - val_loss: 0.1916 - val_accuracy: 0.9690\n",
      "Epoch 67/100\n",
      "1182/1182 [==============================] - 2s 2ms/step - loss: 0.0022 - accuracy: 0.9993 - val_loss: 0.1851 - val_accuracy: 0.9717\n",
      "Epoch 68/100\n",
      "1182/1182 [==============================] - 2s 2ms/step - loss: 0.0033 - accuracy: 0.9987 - val_loss: 0.1867 - val_accuracy: 0.9740\n",
      "Epoch 69/100\n",
      "1182/1182 [==============================] - 3s 2ms/step - loss: 0.0021 - accuracy: 0.9993 - val_loss: 0.1877 - val_accuracy: 0.9724\n",
      "Epoch 70/100\n",
      "1182/1182 [==============================] - 2s 2ms/step - loss: 0.0011 - accuracy: 0.9997 - val_loss: 0.1847 - val_accuracy: 0.9733\n",
      "Epoch 71/100\n",
      "1182/1182 [==============================] - 2s 2ms/step - loss: 1.4614e-04 - accuracy: 1.0000 - val_loss: 0.1841 - val_accuracy: 0.9740\n",
      "Epoch 72/100\n",
      "1182/1182 [==============================] - 3s 3ms/step - loss: 8.2759e-05 - accuracy: 1.0000 - val_loss: 0.1818 - val_accuracy: 0.9740\n",
      "Epoch 73/100\n",
      "1182/1182 [==============================] - 3s 2ms/step - loss: 1.7215e-04 - accuracy: 0.9999 - val_loss: 0.1802 - val_accuracy: 0.9740\n",
      "Epoch 74/100\n",
      "1182/1182 [==============================] - 3s 2ms/step - loss: 4.3452e-05 - accuracy: 1.0000 - val_loss: 0.1802 - val_accuracy: 0.9738\n",
      "Epoch 75/100\n",
      "1182/1182 [==============================] - 2s 2ms/step - loss: 5.3131e-05 - accuracy: 1.0000 - val_loss: 0.1789 - val_accuracy: 0.9748\n",
      "Epoch 76/100\n",
      "1182/1182 [==============================] - 2s 2ms/step - loss: 2.3340e-05 - accuracy: 1.0000 - val_loss: 0.1805 - val_accuracy: 0.9750\n",
      "Epoch 77/100\n",
      "1182/1182 [==============================] - 3s 2ms/step - loss: 7.5502e-06 - accuracy: 1.0000 - val_loss: 0.1794 - val_accuracy: 0.9757\n",
      "Epoch 78/100\n",
      "1182/1182 [==============================] - 2s 2ms/step - loss: 8.1896e-06 - accuracy: 1.0000 - val_loss: 0.1806 - val_accuracy: 0.9745\n",
      "Epoch 79/100\n",
      "1182/1182 [==============================] - 2s 2ms/step - loss: 8.5831e-05 - accuracy: 1.0000 - val_loss: 0.1797 - val_accuracy: 0.9752\n",
      "Epoch 80/100\n",
      "1182/1182 [==============================] - 2s 2ms/step - loss: 0.0070 - accuracy: 0.9982 - val_loss: 0.2071 - val_accuracy: 0.9705\n",
      "Epoch 81/100\n",
      "1182/1182 [==============================] - 2s 2ms/step - loss: 0.0012 - accuracy: 0.9996 - val_loss: 0.2040 - val_accuracy: 0.9729\n",
      "Epoch 82/100\n",
      "1182/1182 [==============================] - 3s 2ms/step - loss: 0.0017 - accuracy: 0.9995 - val_loss: 0.2116 - val_accuracy: 0.9714\n",
      "Epoch 83/100\n",
      "1182/1182 [==============================] - 2s 2ms/step - loss: 0.0018 - accuracy: 0.9998 - val_loss: 0.1885 - val_accuracy: 0.9729\n",
      "Epoch 84/100\n",
      "1182/1182 [==============================] - 3s 2ms/step - loss: 7.5103e-05 - accuracy: 1.0000 - val_loss: 0.1864 - val_accuracy: 0.9733\n",
      "Epoch 85/100\n",
      "1182/1182 [==============================] - 3s 3ms/step - loss: 1.3140e-04 - accuracy: 1.0000 - val_loss: 0.1836 - val_accuracy: 0.9733\n",
      "Epoch 86/100\n",
      "1182/1182 [==============================] - 3s 3ms/step - loss: 9.8268e-05 - accuracy: 1.0000 - val_loss: 0.1826 - val_accuracy: 0.9733\n",
      "Epoch 87/100\n",
      "1182/1182 [==============================] - 2s 2ms/step - loss: 7.8363e-06 - accuracy: 1.0000 - val_loss: 0.1830 - val_accuracy: 0.9740\n",
      "Epoch 88/100\n",
      "1182/1182 [==============================] - 2s 2ms/step - loss: 3.8712e-05 - accuracy: 1.0000 - val_loss: 0.1838 - val_accuracy: 0.9740\n",
      "Epoch 89/100\n",
      "1182/1182 [==============================] - 2s 2ms/step - loss: 1.4054e-04 - accuracy: 0.9999 - val_loss: 0.1842 - val_accuracy: 0.9740\n",
      "Epoch 90/100\n",
      "1182/1182 [==============================] - 3s 2ms/step - loss: 4.6040e-05 - accuracy: 1.0000 - val_loss: 0.1849 - val_accuracy: 0.9736\n",
      "Epoch 91/100\n",
      "1182/1182 [==============================] - 2s 2ms/step - loss: 4.4681e-05 - accuracy: 1.0000 - val_loss: 0.1865 - val_accuracy: 0.9736\n",
      "Epoch 92/100\n",
      "1182/1182 [==============================] - 2s 2ms/step - loss: 7.7481e-06 - accuracy: 1.0000 - val_loss: 0.1876 - val_accuracy: 0.9731\n",
      "Epoch 93/100\n",
      "1182/1182 [==============================] - 2s 2ms/step - loss: 8.3227e-06 - accuracy: 1.0000 - val_loss: 0.1889 - val_accuracy: 0.9736\n",
      "Epoch 94/100\n",
      "1182/1182 [==============================] - 2s 2ms/step - loss: 6.1917e-05 - accuracy: 1.0000 - val_loss: 0.1902 - val_accuracy: 0.9740\n",
      "Epoch 95/100\n",
      "1182/1182 [==============================] - 3s 2ms/step - loss: 0.0021 - accuracy: 0.9995 - val_loss: 0.2261 - val_accuracy: 0.9681\n",
      "Epoch 96/100\n",
      "1182/1182 [==============================] - 2s 2ms/step - loss: 0.0036 - accuracy: 0.9989 - val_loss: 0.2209 - val_accuracy: 0.9698\n",
      "Epoch 97/100\n",
      "1182/1182 [==============================] - 3s 3ms/step - loss: 0.0020 - accuracy: 0.9994 - val_loss: 0.2155 - val_accuracy: 0.9724\n",
      "Epoch 98/100\n",
      "1182/1182 [==============================] - 3s 2ms/step - loss: 0.0036 - accuracy: 0.9988 - val_loss: 0.2096 - val_accuracy: 0.9719\n",
      "Epoch 99/100\n",
      "1182/1182 [==============================] - 3s 3ms/step - loss: 0.0032 - accuracy: 0.9990 - val_loss: 0.2226 - val_accuracy: 0.9688\n",
      "Epoch 100/100\n",
      "1182/1182 [==============================] - 2s 2ms/step - loss: 0.0025 - accuracy: 0.9993 - val_loss: 0.2036 - val_accuracy: 0.9729\n"
     ]
    }
   ],
   "source": [
    "# 1: Building the model\n",
    "model = Sequential()\n",
    "model.add(Flatten())\n",
    "model.add(Dense(128, activation=tf.nn.relu))\n",
    "model.add(Dense(128, activation=tf.nn.relu))\n",
    "model.add(Dense(10, activation=tf.nn.sigmoid))\n",
    "\n",
    "# 2. Compile the model\n",
    "model.compile(optimizer=\"adam\",\n",
    "             loss=\"sparse_categorical_crossentropy\",\n",
    "             metrics=[\"accuracy\"])\n",
    "\n",
    "# 3. Train the model\n",
    "history = model.fit(X_train, y_train,\n",
    "         validation_data=(X_eval, y_eval),\n",
    "         epochs=100)"
   ]
  },
  {
   "cell_type": "markdown",
   "id": "pointed-permit",
   "metadata": {
    "papermill": {
     "duration": 1.191272,
     "end_time": "2021-04-22T18:14:40.676571",
     "exception": false,
     "start_time": "2021-04-22T18:14:39.485299",
     "status": "completed"
    },
    "tags": []
   },
   "source": [
    "## 6: Visualize Train and Validation Results"
   ]
  },
  {
   "cell_type": "code",
   "execution_count": 14,
   "id": "double-whole",
   "metadata": {
    "execution": {
     "iopub.execute_input": "2021-04-22T18:14:43.108198Z",
     "iopub.status.busy": "2021-04-22T18:14:43.107577Z",
     "iopub.status.idle": "2021-04-22T18:14:43.376705Z",
     "shell.execute_reply": "2021-04-22T18:14:43.377091Z"
    },
    "papermill": {
     "duration": 1.505032,
     "end_time": "2021-04-22T18:14:43.377291",
     "exception": false,
     "start_time": "2021-04-22T18:14:41.872259",
     "status": "completed"
    },
    "tags": []
   },
   "outputs": [
    {
     "data": {
      "text/plain": [
       "<AxesSubplot:>"
      ]
     },
     "execution_count": 14,
     "metadata": {},
     "output_type": "execute_result"
    },
    {
     "data": {
      "image/png": "[encoded data removed]",
      "text/plain": [
       "<Figure size 432x288 with 1 Axes>"
      ]
     },
     "metadata": {
      "needs_background": "light"
     },
     "output_type": "display_data"
    },
    {
     "data": {
      "image/png": "[encoded data removed]",
      "text/plain": [
       "<Figure size 432x288 with 1 Axes>"
      ]
     },
     "metadata": {
      "needs_background": "light"
     },
     "output_type": "display_data"
    }
   ],
   "source": [
    "history_df = pd.DataFrame(history.history)\n",
    "history_df.loc[:, [\"loss\", \"accuracy\"]].plot()\n",
    "history_df.loc[:, [\"val_loss\", \"val_accuracy\"]].plot()"
   ]
  },
  {
   "cell_type": "code",
   "execution_count": 15,
   "id": "organizational-reception",
   "metadata": {
    "execution": {
     "iopub.execute_input": "2021-04-22T18:14:46.034408Z",
     "iopub.status.busy": "2021-04-22T18:14:46.033519Z",
     "iopub.status.idle": "2021-04-22T18:14:46.052999Z",
     "shell.execute_reply": "2021-04-22T18:14:46.052595Z"
    },
    "papermill": {
     "duration": 1.251173,
     "end_time": "2021-04-22T18:14:46.053112",
     "exception": false,
     "start_time": "2021-04-22T18:14:44.801939",
     "status": "completed"
    },
    "tags": []
   },
   "outputs": [
    {
     "data": {
      "text/html": [
       "<div>\n",
       "<style scoped>\n",
       "    .dataframe tbody tr th:only-of-type {\n",
       "        vertical-align: middle;\n",
       "    }\n",
       "\n",
       "    .dataframe tbody tr th {\n",
       "        vertical-align: top;\n",
       "    }\n",
       "\n",
       "    .dataframe thead th {\n",
       "        text-align: right;\n",
       "    }\n",
       "</style>\n",
       "<table border=\"1\" class=\"dataframe\">\n",
       "  <thead>\n",
       "    <tr style=\"text-align: right;\">\n",
       "      <th></th>\n",
       "      <th>loss</th>\n",
       "      <th>accuracy</th>\n",
       "      <th>val_loss</th>\n",
       "      <th>val_accuracy</th>\n",
       "    </tr>\n",
       "  </thead>\n",
       "  <tbody>\n",
       "    <tr>\n",
       "      <th>count</th>\n",
       "      <td>100.000000</td>\n",
       "      <td>100.000000</td>\n",
       "      <td>100.000000</td>\n",
       "      <td>100.000000</td>\n",
       "    </tr>\n",
       "    <tr>\n",
       "      <th>mean</th>\n",
       "      <td>0.015214</td>\n",
       "      <td>0.995401</td>\n",
       "      <td>0.165912</td>\n",
       "      <td>0.970936</td>\n",
       "    </tr>\n",
       "    <tr>\n",
       "      <th>std</th>\n",
       "      <td>0.049480</td>\n",
       "      <td>0.014418</td>\n",
       "      <td>0.030567</td>\n",
       "      <td>0.006002</td>\n",
       "    </tr>\n",
       "    <tr>\n",
       "      <th>min</th>\n",
       "      <td>0.000063</td>\n",
       "      <td>0.879206</td>\n",
       "      <td>0.101213</td>\n",
       "      <td>0.928333</td>\n",
       "    </tr>\n",
       "    <tr>\n",
       "      <th>25%</th>\n",
       "      <td>0.000137</td>\n",
       "      <td>0.997712</td>\n",
       "      <td>0.147620</td>\n",
       "      <td>0.970000</td>\n",
       "    </tr>\n",
       "    <tr>\n",
       "      <th>50%</th>\n",
       "      <td>0.003560</td>\n",
       "      <td>0.999021</td>\n",
       "      <td>0.166121</td>\n",
       "      <td>0.972381</td>\n",
       "    </tr>\n",
       "    <tr>\n",
       "      <th>75%</th>\n",
       "      <td>0.007490</td>\n",
       "      <td>0.999974</td>\n",
       "      <td>0.186210</td>\n",
       "      <td>0.973571</td>\n",
       "    </tr>\n",
       "    <tr>\n",
       "      <th>max</th>\n",
       "      <td>0.422981</td>\n",
       "      <td>0.999974</td>\n",
       "      <td>0.240215</td>\n",
       "      <td>0.975714</td>\n",
       "    </tr>\n",
       "  </tbody>\n",
       "</table>\n",
       "</div>"
      ],
      "text/plain": [
       "             loss    accuracy    val_loss  val_accuracy\n",
       "count  100.000000  100.000000  100.000000    100.000000\n",
       "mean     0.015214    0.995401    0.165912      0.970936\n",
       "std      0.049480    0.014418    0.030567      0.006002\n",
       "min      0.000063    0.879206    0.101213      0.928333\n",
       "25%      0.000137    0.997712    0.147620      0.970000\n",
       "50%      0.003560    0.999021    0.166121      0.972381\n",
       "75%      0.007490    0.999974    0.186210      0.973571\n",
       "max      0.422981    0.999974    0.240215      0.975714"
      ]
     },
     "execution_count": 15,
     "metadata": {},
     "output_type": "execute_result"
    }
   ],
   "source": [
    "# Summary of the scores\n",
    "history_df.describe()"
   ]
  },
  {
   "cell_type": "markdown",
   "id": "welcome-loading",
   "metadata": {
    "papermill": {
     "duration": 1.209722,
     "end_time": "2021-04-22T18:14:48.492616",
     "exception": false,
     "start_time": "2021-04-22T18:14:47.282894",
     "status": "completed"
    },
    "tags": []
   },
   "source": [
    "Since the validation accuracy is over ~ 97.9, the same model will be used to submit the result."
   ]
  },
  {
   "cell_type": "markdown",
   "id": "architectural-trinidad",
   "metadata": {
    "papermill": {
     "duration": 1.212727,
     "end_time": "2021-04-22T18:14:50.957318",
     "exception": false,
     "start_time": "2021-04-22T18:14:49.744591",
     "status": "completed"
    },
    "tags": []
   },
   "source": [
    "## 7. Submit Results"
   ]
  },
  {
   "cell_type": "code",
   "execution_count": 16,
   "id": "blessed-decline",
   "metadata": {
    "execution": {
     "iopub.execute_input": "2021-04-22T18:14:53.377301Z",
     "iopub.status.busy": "2021-04-22T18:14:53.376396Z",
     "iopub.status.idle": "2021-04-22T18:14:54.362589Z",
     "shell.execute_reply": "2021-04-22T18:14:54.362047Z"
    },
    "papermill": {
     "duration": 2.196962,
     "end_time": "2021-04-22T18:14:54.362720",
     "exception": false,
     "start_time": "2021-04-22T18:14:52.165758",
     "status": "completed"
    },
    "tags": []
   },
   "outputs": [],
   "source": [
    "results = model.predict(test)\n",
    "results = np.argmax(results, axis=1)\n",
    "\n",
    "submission = pd.DataFrame({\"ImageId\": [i for i in range(1, 28001)] , \"Label\": list(results)})\n",
    "\n",
    "submission.to_csv(\"mnist_submission.csv\", index=False)"
   ]
  },
  {
   "cell_type": "markdown",
   "id": "embedded-senate",
   "metadata": {
    "papermill": {
     "duration": 1.236259,
     "end_time": "2021-04-22T18:14:57.033716",
     "exception": false,
     "start_time": "2021-04-22T18:14:55.797457",
     "status": "completed"
    },
    "tags": []
   },
   "source": [
    "# 8. Random Validation\n",
    "\n",
    "A random sample of the test set is taken to validate with the predictions made by the model"
   ]
  },
  {
   "cell_type": "code",
   "execution_count": 17,
   "id": "outer-doctrine",
   "metadata": {
    "execution": {
     "iopub.execute_input": "2021-04-22T18:14:59.472865Z",
     "iopub.status.busy": "2021-04-22T18:14:59.471815Z",
     "iopub.status.idle": "2021-04-22T18:14:59.563874Z",
     "shell.execute_reply": "2021-04-22T18:14:59.563456Z"
    },
    "papermill": {
     "duration": 1.311335,
     "end_time": "2021-04-22T18:14:59.563991",
     "exception": false,
     "start_time": "2021-04-22T18:14:58.252656",
     "status": "completed"
    },
    "tags": []
   },
   "outputs": [
    {
     "data": {
      "text/plain": [
       "<matplotlib.image.AxesImage at 0x7fa680100f90>"
      ]
     },
     "execution_count": 17,
     "metadata": {},
     "output_type": "execute_result"
    },
    {
     "data": {
      "image/png": "[encoded data removed]",
      "text/plain": [
       "<Figure size 432x288 with 1 Axes>"
      ]
     },
     "metadata": {
      "needs_background": "light"
     },
     "output_type": "display_data"
    }
   ],
   "source": [
    "plt.imshow(test[10].reshape(28, 28))"
   ]
  },
  {
   "cell_type": "code",
   "execution_count": 18,
   "id": "disturbed-morrison",
   "metadata": {
    "execution": {
     "iopub.execute_input": "2021-04-22T18:15:01.956032Z",
     "iopub.status.busy": "2021-04-22T18:15:01.955038Z",
     "iopub.status.idle": "2021-04-22T18:15:01.959190Z",
     "shell.execute_reply": "2021-04-22T18:15:01.959582Z"
    },
    "papermill": {
     "duration": 1.201345,
     "end_time": "2021-04-22T18:15:01.959720",
     "exception": false,
     "start_time": "2021-04-22T18:15:00.758375",
     "status": "completed"
    },
    "tags": []
   },
   "outputs": [
    {
     "data": {
      "text/plain": [
       "ImageId    11\n",
       "Label       5\n",
       "Name: 10, dtype: int64"
      ]
     },
     "execution_count": 18,
     "metadata": {},
     "output_type": "execute_result"
    }
   ],
   "source": [
    "submission.iloc[10]"
   ]
  },
  {
   "cell_type": "code",
   "execution_count": null,
   "id": "color-jacksonville",
   "metadata": {
    "papermill": {
     "duration": 1.194611,
     "end_time": "2021-04-22T18:15:04.393583",
     "exception": false,
     "start_time": "2021-04-22T18:15:03.198972",
     "status": "completed"
    },
    "tags": []
   },
   "outputs": [],
   "source": []
  }
 ],
 "metadata": {
  "kernelspec": {
   "display_name": "Python 3",
   "language": "python",
   "name": "python3"
  },
  "language_info": {
   "codemirror_mode": {
    "name": "ipython",
    "version": 3
   },
   "file_extension": ".py",
   "mimetype": "text/x-python",
   "name": "python",
   "nbconvert_exporter": "python",
   "pygments_lexer": "ipython3",
   "version": "3.7.10"
  },
  "papermill": {
   "default_parameters": {},
   "duration": 309.06861,
   "end_time": "2021-04-22T18:15:08.800888",
   "environment_variables": {},
   "exception": null,
   "input_path": "__notebook__.ipynb",
   "output_path": "__notebook__.ipynb",
   "parameters": {},
   "start_time": "2021-04-22T18:09:59.732278",
   "version": "2.3.3"
  }
 },
 "nbformat": 4,
 "nbformat_minor": 5
}
