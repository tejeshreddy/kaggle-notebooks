{
 "cells": [
  {
   "cell_type": "markdown",
   "id": "saving-redhead",
   "metadata": {},
   "source": [
    "# Fake News Classifier Using LSTM\n",
    "https://www.kaggle.com/c/fake-news"
   ]
  },
  {
   "cell_type": "code",
   "execution_count": 6,
   "id": "returning-natural",
   "metadata": {},
   "outputs": [
    {
     "name": "stdout",
     "output_type": "stream",
     "text": [
      "Downloading fake-news.zip to /Users/tejesh/Documents/tejesh/kaggle-notebooks/fake-news\n",
      " 99%|█████████████████████████████████████▌| 46.0M/46.5M [00:10<00:00, 4.93MB/s]\n",
      "100%|██████████████████████████████████████| 46.5M/46.5M [00:10<00:00, 4.57MB/s]\n"
     ]
    }
   ],
   "source": [
    "!kaggle competitions download -c fake-news"
   ]
  },
  {
   "cell_type": "code",
   "execution_count": 12,
   "id": "vietnamese-property",
   "metadata": {},
   "outputs": [
    {
     "name": "stdout",
     "output_type": "stream",
     "text": [
      "submit.csv test.csv   train.csv\r\n"
     ]
    }
   ],
   "source": [
    "!cd data && ls"
   ]
  },
  {
   "cell_type": "code",
   "execution_count": null,
   "id": "fundamental-flashing",
   "metadata": {},
   "outputs": [],
   "source": []
  }
 ],
 "metadata": {
  "kernelspec": {
   "display_name": "Python 3",
   "language": "python",
   "name": "python3"
  },
  "language_info": {
   "codemirror_mode": {
    "name": "ipython",
    "version": 3
   },
   "file_extension": ".py",
   "mimetype": "text/x-python",
   "name": "python",
   "nbconvert_exporter": "python",
   "pygments_lexer": "ipython3",
   "version": "3.8.8"
  }
 },
 "nbformat": 4,
 "nbformat_minor": 5
}
